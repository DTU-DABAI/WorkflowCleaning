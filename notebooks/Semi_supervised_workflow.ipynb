{
 "cells": [
  {
   "cell_type": "code",
   "execution_count": 2,
   "metadata": {},
   "outputs": [],
   "source": [
    "import pandas as pd"
   ]
  },
  {
   "cell_type": "code",
   "execution_count": 8,
   "metadata": {
    "collapsed": true
   },
   "outputs": [],
   "source": [
    "GENES = pd.read_csv('/home/svanhmic/workspace/data/test/gene_gene_associations_50k.csv',\n",
    "                    usecols=['OFFICIAL_SYMBOL_A'],\n",
    "                    low_memory=True,\n",
    "                    iterator=True,\n",
    "                    chunksize=1000)\n"
   ]
  },
  {
   "cell_type": "code",
   "execution_count": null,
   "metadata": {},
   "outputs": [],
   "source": []
  },
  {
   "cell_type": "code",
   "execution_count": 9,
   "metadata": {
    "collapsed": true
   },
   "outputs": [],
   "source": [
    "# Concatenate chunks into list & convert to DataFrame\n",
    "GENES_DF = pd.DataFrame(pd.concat(list(GENES), ignore_index=True))\n",
    "\n",
    "# Remove duplicates\n",
    "GENES_DF_CLEAN = GENES_DF.drop_duplicates(keep='first')\n",
    "\n",
    "# Name Columns\n",
    "GENES_DF_CLEAN.columns = ['id']"
   ]
  },
  {
   "cell_type": "code",
   "execution_count": 13,
   "metadata": {},
   "outputs": [
    {
     "name": "stdout",
     "output_type": "stream",
     "text": [
      "+------+\n",
      "|    id|\n",
      "+------+\n",
      "|MAP2K4|\n",
      "|  MYPN|\n",
      "| ACVR1|\n",
      "| GATA2|\n",
      "|  RPA2|\n",
      "|  ARF1|\n",
      "|  ARF3|\n",
      "|  XRN1|\n",
      "|   APP|\n",
      "| APLP1|\n",
      "|CITED2|\n",
      "| EP300|\n",
      "|  APOB|\n",
      "| ARRB2|\n",
      "| CSF1R|\n",
      "|PRRC2A|\n",
      "|  LSM1|\n",
      "|SLC4A1|\n",
      "|  BCL3|\n",
      "| ADRB1|\n",
      "+------+\n",
      "only showing top 20 rows\n",
      "\n"
     ]
    }
   ],
   "source": [
    "VERTICES = sqlCtx.createDataFrame(GENES_DF_CLEAN)\n",
    "VERTICES.show()"
   ]
  },
  {
   "cell_type": "code",
   "execution_count": null,
   "metadata": {
    "collapsed": true
   },
   "outputs": [],
   "source": []
  }
 ],
 "metadata": {
  "kernelspec": {
   "display_name": "Python 3",
   "language": "python",
   "name": "python3"
  },
  "language_info": {
   "codemirror_mode": {
    "name": "ipython",
    "version": 3
   },
   "file_extension": ".py",
   "mimetype": "text/x-python",
   "name": "python",
   "nbconvert_exporter": "python",
   "pygments_lexer": "ipython3",
   "version": "3.5.2"
  }
 },
 "nbformat": 4,
 "nbformat_minor": 2
}
