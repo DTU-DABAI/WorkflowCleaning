{
 "cells": [
  {
   "cell_type": "code",
   "execution_count": 1,
   "metadata": {
    "collapsed": true
   },
   "outputs": [],
   "source": [
    "import sys, os"
   ]
  },
  {
   "cell_type": "code",
   "execution_count": null,
   "metadata": {
    "collapsed": true
   },
   "outputs": [],
   "source": []
  },
  {
   "cell_type": "code",
   "execution_count": 2,
   "metadata": {},
   "outputs": [
    {
     "name": "stdout",
     "output_type": "stream",
     "text": [
      "/home/svanhmic/workspace/DABAI/WorkflowCleaning\n"
     ]
    }
   ],
   "source": [
    "module_path = os.path.abspath(os.path.join('..'))\n",
    "if module_path not in sys.path:\n",
    "    sys.path.append(module_path)\n",
    "print(module_path)\n",
    "\n",
    "parquet_path = \"/home/svanhmic/workspace/data/DABAI/sparkdata/parquet\""
   ]
  },
  {
   "cell_type": "code",
   "execution_count": 3,
   "metadata": {
    "collapsed": true
   },
   "outputs": [],
   "source": [
    "#import data!\n",
    "from sample.DataIO import DataIO \n",
    "\n",
    "data = DataIO(sc,feature_path=parquet_path+\"/featureDataCvr.parquet\",company_path=parquet_path+\"/companyCvrData\")\n",
    "feature_data = data.mergeCompanyFeatureData()\n",
    "#feature_data.show()"
   ]
  },
  {
   "cell_type": "code",
   "execution_count": 4,
   "metadata": {},
   "outputs": [
    {
     "data": {
      "application/vnd.jupyter.widget-view+json": {
       "model_id": "e3074729ba3447578abc9ae23c4f0b2d"
      }
     },
     "metadata": {},
     "output_type": "display_data"
    }
   ],
   "source": [
    "#Select parameters\n",
    "from sample.CreateFeatures import AssembleKmeans\n",
    "\n",
    "\n",
    "params = AssembleKmeans(feature_data.columns)\n",
    "params.select_parameters()"
   ]
  },
  {
   "cell_type": "code",
   "execution_count": 6,
   "metadata": {},
   "outputs": [
    {
     "name": "stdout",
     "output_type": "stream",
     "text": [
      "{'features': ('cvrNummer',), 'initialstep': 42, 'standardize': False, 'clusters': 25, 'model': 'BisectingKMeans', 'initialmode': 'random', 'prediction': 'Prediction', 'iterations': 10}\n"
     ]
    }
   ],
   "source": [
    "print(params.export_values())"
   ]
  },
  {
   "cell_type": "code",
   "execution_count": 6,
   "metadata": {},
   "outputs": [
    {
     "name": "stdout",
     "output_type": "stream",
     "text": [
      "None\n",
      "{'features': ('AarsVaerk_1', 'AarsVaerk_2', 'AarsVaerk_3', 'AarsVaerk_4'), 'initialstep': 40, 'standardize': True, 'clusters': 21, 'model': 'KMeans', 'initialmode': 'random', 'prediction': 'Prediction', 'iterations': 17}\n"
     ]
    }
   ],
   "source": [
    "from sample.ExecuteWorkflow import ExecuteWorkflow\n",
    "\n",
    "execution_model = ExecuteWorkflow()\n",
    "print(execution_model.params)\n",
    "execution_model.params = params.export_values()\n",
    "print(execution_model.params)"
   ]
  },
  {
   "cell_type": "code",
   "execution_count": 7,
   "metadata": {},
   "outputs": [],
   "source": [
    "runTest = execution_model.run(data=feature_data)"
   ]
  },
  {
   "cell_type": "code",
   "execution_count": 8,
   "metadata": {},
   "outputs": [
    {
     "name": "stdout",
     "output_type": "stream",
     "text": [
      "+---------+--------------------+-----+-----------+-----------+-----------+-----------+-----------+-----------+-----------+-----------+-----------+------------+------------+------------+------------+------------+------------+--------+--------+--------+--------+--------+--------+--------+--------+--------+---------+---------+---------+---------+---------+---------+-----------+-----------------+------------------+------------------+-------------------+------------------+-------------------+------------------+------+------+----------------+---------------+--------------------+--------------------+--------------------+--------------------+\n",
      "|cvrNummer|              status|label|AarsVaerk_1|AarsVaerk_2|AarsVaerk_3|AarsVaerk_4|AarsVaerk_5|AarsVaerk_6|AarsVaerk_7|AarsVaerk_8|AarsVaerk_9|AarsVaerk_10|AarsVaerk_11|AarsVaerk_12|AarsVaerk_13|AarsVaerk_14|AarsVaerk_15|medArb_1|medArb_2|medArb_3|medArb_4|medArb_5|medArb_6|medArb_7|medArb_8|medArb_9|medArb_10|medArb_11|medArb_12|medArb_13|medArb_14|medArb_15|avgVarighed|totalAabneEnheder|totalLukketEnheder|            rank_1|             rank_2|            rank_3|             rank_4|            rank_5|rank_6|rank_7|reklamebeskyttet|kortBeskrivelse|                navn|            features|     casted_features|     scaled_features|\n",
      "+---------+--------------------+-----+-----------+-----------+-----------+-----------+-----------+-----------+-----------+-----------+-----------+------------+------------+------------+------------+------------+------------+--------+--------+--------+--------+--------+--------+--------+--------+--------+---------+---------+---------+---------+---------+---------+-----------+-----------------+------------------+------------------+-------------------+------------------+-------------------+------------------+------+------+----------------+---------------+--------------------+--------------------+--------------------+--------------------+\n",
      "| 12966407|[NORMAL, UNDER TV...|  0.0|        1.0|        1.0|        1.0|        1.0|        1.0|        1.0|        1.0|        1.0|        1.0|         1.0|         1.0|         1.0|         1.0|         0.0|         0.0|     0.0|     1.0|     1.0|     1.0|     1.0|     2.0|     1.0|     1.0|     1.0|      1.0|      1.0|      1.0|      0.0|      0.0|      0.0|        0.0|                0|                 1|16.059957173447536|                0.0|               0.0|                0.0|               0.0|   0.0|   0.0|           false|            APS|     SPKR 4 NR. 2451|   [1.0,1.0,1.0,1.0]|   [1.0,1.0,1.0,1.0]|[-0.1487864096413...|\n",
      "| 19697290|            [NORMAL]|  0.0|        1.0|        1.0|        1.0|        1.0|        1.0|        1.0|        2.0|        2.0|        0.0|         0.0|         0.0|         0.0|         0.0|         0.0|         0.0|     1.0|     0.0|     0.0|     2.0|     0.0|     1.0|     2.0|     2.0|     0.0|      0.0|      0.0|      0.0|      0.0|      0.0|      0.0|        0.0|                0|                 1|               0.0|                0.0|               0.0|                0.0|               0.0|   0.0|   0.0|           false|            APS|         TAGE JENSEN|   [1.0,1.0,1.0,1.0]|   [1.0,1.0,1.0,1.0]|[-0.1487864096413...|\n",
      "| 27944078|            [NORMAL]|  0.0|        1.0|        1.0|        1.0|        1.0|        1.0|        1.0|        0.0|        0.0|        0.0|         0.0|         0.0|         0.0|         0.0|         0.0|         0.0|     0.0|     1.0|     1.0|     1.0|     1.0|     2.0|     0.0|     0.0|     0.0|      0.0|      0.0|      0.0|      0.0|      0.0|      0.0|        0.0|                0|                 1|               0.0|                0.0|               0.0|                0.0|               0.0|   0.0|   0.0|           false|            APS|            AUBRØNCO|   [1.0,1.0,1.0,1.0]|   [1.0,1.0,1.0,1.0]|[-0.1487864096413...|\n",
      "| 29212112|[UNDER KONKURS, N...|  1.0|       20.0|       20.0|       20.0|       20.0|       20.0|       20.0|       20.0|       20.0|       20.0|        20.0|        20.0|        50.0|        50.0|         0.0|         0.0|    20.0|    20.0|    20.0|    20.0|    20.0|    20.0|    20.0|    20.0|    20.0|     20.0|     20.0|     50.0|     50.0|      0.0|      0.0|     7331.6|                5|                 1|  29.6373551465576|-1852.9956763434218|-129310.3448275862|-28571.428571428572|-666.0746003552398|   0.0|   0.0|            true|            APS|DE BERLINGSKE VIR...|[20.0,20.0,20.0,2...|[20.0,20.0,20.0,2...|[1.37965195506158...|\n",
      "| 20760842|[OPLØST EFTER KON...|  1.0|        1.0|        5.0|        5.0|        5.0|        5.0|        5.0|        2.0|        2.0|        2.0|         2.0|         2.0|         2.0|         2.0|         2.0|         0.0|     0.0|     2.0|     5.0|     5.0|     5.0|     5.0|     5.0|     2.0|     2.0|      2.0|      2.0|      2.0|      2.0|      2.0|      0.0|     5801.0|                1|                 0|               0.0|                0.0|               0.0|                0.0|               0.0|   0.0|   0.0|           false|            APS|EJENDOMSMÆGLERFIR...|   [1.0,5.0,5.0,5.0]|   [1.0,5.0,5.0,5.0]|[-0.1487864096413...|\n",
      "| 21442895|[OPLØST EFTER FUS...|  0.0|        2.0|        2.0|        2.0|        1.0|        0.0|        0.0|        0.0|        0.0|        0.0|         0.0|         0.0|         0.0|         0.0|         0.0|         0.0|     2.0|     5.0|     5.0|     2.0|     0.0|     0.0|     0.0|     0.0|     0.0|      0.0|      0.0|      0.0|      0.0|      0.0|      0.0|     3006.0|                2|                 0| 55.02392344497608| 3.1446540880503147|0.6839945280437757|                0.0|               0.0|   0.0|   0.0|            true|            APS|GS HANDELSSELSKAB...|   [2.0,2.0,2.0,1.0]|   [2.0,2.0,2.0,1.0]|[-0.0683422851832...|\n",
      "| 26361982|[TVANGSOPLØST, UN...|  0.0|        1.0|        0.0|        0.0|        0.0|        0.0|        0.0|        0.0|        0.0|        0.0|         0.0|         0.0|         0.0|         0.0|         0.0|         0.0|     1.0|     0.0|     0.0|     0.0|     0.0|     0.0|     0.0|     0.0|     0.0|      0.0|      0.0|      0.0|      0.0|      0.0|      0.0|     3433.0|                1|                 0|               0.0|                0.0|               0.0|                0.0|               0.0|   0.0|   0.0|           false|            APS|  SKARBYG ENTREPRISE|       (4,[0],[1.0])|   [1.0,0.0,0.0,0.0]|[-0.1487864096413...|\n",
      "| 28128029|[OPLØST EFTER ERK...|  0.0|        1.0|        2.0|        1.0|        1.0|        1.0|        0.0|        0.0|        0.0|        0.0|         0.0|         0.0|         0.0|         0.0|         0.0|         0.0|     0.0|     5.0|     2.0|     1.0|     1.0|     0.0|     0.0|     0.0|     0.0|      0.0|      0.0|      0.0|      0.0|      0.0|      0.0|     2359.0|                1|                 0|               0.0|                0.0|               0.0|                0.0|               0.0|   0.0|   0.0|           false|            APS|GORDIOS CONSULTIN...|   [1.0,2.0,1.0,1.0]|   [1.0,2.0,1.0,1.0]|[-0.1487864096413...|\n",
      "| 30276434|[OPLØST EFTER KON...|  1.0|        1.0|        2.0|        0.0|        0.0|        0.0|        0.0|        0.0|        0.0|        0.0|         0.0|         0.0|         0.0|         0.0|         0.0|         0.0|     0.0|     5.0|     0.0|     0.0|     0.0|     0.0|     0.0|     0.0|     0.0|      0.0|      0.0|      0.0|      0.0|      0.0|      0.0|     1244.0|                1|                 0|               0.0|                0.0|               0.0|                0.0|               0.0|   0.0|   0.0|           false|            APS|   LSB RESTAURATIONS|   [1.0,2.0,0.0,0.0]|   [1.0,2.0,0.0,0.0]|[-0.1487864096413...|\n",
      "| 24220761|            [NORMAL]|  0.0|        2.0|        2.0|        2.0|        2.0|        2.0|        2.0|        2.0|        2.0|        2.0|         2.0|         2.0|         2.0|         2.0|         0.0|         0.0|     2.0|     2.0|     2.0|     2.0|     2.0|     2.0|     2.0|     2.0|     2.0|      2.0|      2.0|      2.0|      2.0|      0.0|      0.0|        0.0|                0|                 1|               0.0|                0.0|               0.0|                0.0|               0.0|   0.0|   0.0|            true|            APS|        MIKKELSEN IT|   [2.0,2.0,2.0,2.0]|   [2.0,2.0,2.0,2.0]|[-0.0683422851832...|\n",
      "| 27231209|[OPLØST EFTER KON...|  1.0|        0.0|        5.0|        2.0|        1.0|        0.0|        0.0|        0.0|        0.0|        0.0|         0.0|         0.0|         0.0|         0.0|         0.0|         0.0|     1.0|     5.0|     5.0|     2.0|     0.0|     0.0|     0.0|     0.0|     0.0|      0.0|      0.0|      0.0|      0.0|      0.0|      0.0|     2107.0|                1|                 0|               0.0|                0.0|               0.0|                0.0|               0.0|   0.0|   0.0|           false|            APS|    FITNESS CONCEPTS|   [0.0,5.0,2.0,1.0]|   [0.0,5.0,2.0,1.0]|[-0.2292305340993...|\n",
      "| 27959903|            [NORMAL]|  0.0|        1.0|        1.0|        1.0|        1.0|        0.0|        0.0|        1.0|        0.0|        0.0|         0.0|         0.0|         0.0|         0.0|         0.0|         0.0|     2.0|     2.0|     1.0|     1.0|     1.0|     1.0|     1.0|     0.0|     0.0|      0.0|      0.0|      0.0|      0.0|      0.0|      0.0|        0.0|                0|                 1|               0.0|                0.0|               0.0|                0.0|               0.0|   0.0|   0.0|            true|            APS|             A TREND|   [1.0,1.0,1.0,1.0]|   [1.0,1.0,1.0,1.0]|[-0.1487864096413...|\n",
      "| 29317674|[UNDER KONKURS, U...|  1.0|        1.0|        1.0|        1.0|        1.0|        1.0|        0.0|        0.0|        0.0|        0.0|         0.0|         0.0|         0.0|         0.0|         0.0|         0.0|     1.0|     1.0|     1.0|     1.0|     1.0|     0.0|     0.0|     0.0|     0.0|      0.0|      0.0|      0.0|      0.0|      0.0|      0.0|        0.0|                0|                 1|               0.0|           97.65625|               0.0|                0.0|               0.0|   0.0|   0.0|           false|            APS|SCANECOTECH CARD ...|   [1.0,1.0,1.0,1.0]|   [1.0,1.0,1.0,1.0]|[-0.1487864096413...|\n",
      "| 29928320|[OPLØST EFTER ERK...|  0.0|        5.0|       20.0|       20.0|        0.0|        0.0|        0.0|        0.0|        0.0|        0.0|         0.0|         0.0|         0.0|         0.0|         0.0|         0.0|     5.0|    50.0|    20.0|     0.0|     0.0|     0.0|     0.0|     0.0|     0.0|      0.0|      0.0|      0.0|      0.0|      0.0|      0.0|     1381.0|                1|                 0|               0.0|                0.0|               0.0|                0.0|               0.0|   0.0|   0.0|           false|            APS|    KBUS 17 NR. 5302| [5.0,20.0,20.0,0.0]| [5.0,20.0,20.0,0.0]|[0.17299008819088...|\n",
      "| 31945747|[OPLØST EFTER KON...|  1.0|        1.0|        2.0|        0.0|        0.0|        0.0|        0.0|        0.0|        0.0|        0.0|         0.0|         0.0|         0.0|         0.0|         0.0|         0.0|     0.0|     5.0|     0.0|     0.0|     0.0|     0.0|     0.0|     0.0|     0.0|      0.0|      0.0|      0.0|      0.0|      0.0|      0.0|     2589.0|                1|                 0|               0.0|                0.0|               0.0|                0.0|               0.0|   0.0|   0.0|           false|            APS|      SPRINGS BAGERI|   [1.0,2.0,0.0,0.0]|   [1.0,2.0,0.0,0.0]|[-0.1487864096413...|\n",
      "| 32083080|[UNDER KONKURS, N...|  1.0|        2.0|        2.0|        1.0|        0.0|        0.0|        0.0|        0.0|        0.0|        0.0|         0.0|         0.0|         0.0|         0.0|         0.0|         0.0|     5.0|     2.0|     5.0|     0.0|     0.0|     0.0|     0.0|     0.0|     0.0|      0.0|      0.0|      0.0|      0.0|      0.0|      0.0|        0.0|                0|                 1|               0.0|                0.0|               0.0|                0.0|               0.0|   0.0|   0.0|           false|            APS|   KBURS 17 NR. 6848|   [2.0,2.0,1.0,0.0]|   [2.0,2.0,1.0,0.0]|[-0.0683422851832...|\n",
      "| 32770320|[OPLØST EFTER KON...|  1.0|        2.0|        2.0|        0.0|        0.0|        0.0|        0.0|        0.0|        0.0|        0.0|         0.0|         0.0|         0.0|         0.0|         0.0|         0.0|     2.0|     2.0|     0.0|     0.0|     0.0|     0.0|     0.0|     0.0|     0.0|      0.0|      0.0|      0.0|      0.0|      0.0|      0.0|     1901.0|                1|                 0|               0.0|                0.0|               0.0|                0.0|               0.0|   0.0|   0.0|           false|            APS|        RIDE4FUN SCS|   [2.0,2.0,0.0,0.0]|   [2.0,2.0,0.0,0.0]|[-0.0683422851832...|\n",
      "| 31469473|[UNDER KONKURS, U...|  1.0|        1.0|        0.0|        0.0|        0.0|        0.0|        0.0|        0.0|        0.0|        0.0|         0.0|         0.0|         0.0|         0.0|         0.0|         0.0|     0.0|     0.0|     0.0|     0.0|     0.0|     0.0|     0.0|     0.0|     0.0|      0.0|      0.0|      0.0|      0.0|      0.0|      0.0|        0.0|                0|                 1|               0.0|                0.0|               0.0|                0.0|               0.0|   0.0|   0.0|           false|            APS|     MARK LC HOLDING|       (4,[0],[1.0])|   [1.0,0.0,0.0,0.0]|[-0.1487864096413...|\n",
      "| 32152171|[TVANGSOPLØST, UN...|  0.0|        1.0|        0.0|        0.0|        0.0|        0.0|        0.0|        0.0|        0.0|        0.0|         0.0|         0.0|         0.0|         0.0|         0.0|         0.0|     0.0|     0.0|     0.0|     0.0|     0.0|     0.0|     0.0|     0.0|     0.0|      0.0|      0.0|      0.0|      0.0|      0.0|      0.0|      644.0|                1|                 0|               0.0|                0.0|               0.0|                0.0|               0.0|   0.0|   0.0|           false|            APS|               SV-09|       (4,[0],[1.0])|   [1.0,0.0,0.0,0.0]|[-0.1487864096413...|\n",
      "| 33512252|[UNDER KONKURS, N...|  1.0|        2.0|        0.0|        0.0|        0.0|        0.0|        0.0|        0.0|        0.0|        0.0|         0.0|         0.0|         0.0|         0.0|         0.0|         0.0|     5.0|     0.0|     0.0|     0.0|     0.0|     0.0|     0.0|     0.0|     0.0|      0.0|      0.0|      0.0|      0.0|      0.0|      0.0|        0.0|                0|                 1|               0.0|                0.0|               0.0|                0.0|               0.0|   0.0|   0.0|           false|            APS|         SUVEREN BYG|       (4,[0],[2.0])|   [2.0,0.0,0.0,0.0]|[-0.0683422851832...|\n",
      "+---------+--------------------+-----+-----------+-----------+-----------+-----------+-----------+-----------+-----------+-----------+-----------+------------+------------+------------+------------+------------+------------+--------+--------+--------+--------+--------+--------+--------+--------+--------+---------+---------+---------+---------+---------+---------+-----------+-----------------+------------------+------------------+-------------------+------------------+-------------------+------------------+------+------+----------------+---------------+--------------------+--------------------+--------------------+--------------------+\n",
      "only showing top 20 rows\n",
      "\n"
     ]
    }
   ],
   "source": [
    "runTest.transform(feature_data).show()"
   ]
  },
  {
   "cell_type": "code",
   "execution_count": 8,
   "metadata": {},
   "outputs": [
    {
     "name": "stdout",
     "output_type": "stream",
     "text": [
      "root\n",
      " |-- cvrNummer: long (nullable = true)\n",
      " |-- status: array (nullable = true)\n",
      " |    |-- element: string (containsNull = true)\n",
      " |-- label: double (nullable = false)\n",
      " |-- AarsVaerk_1: double (nullable = false)\n",
      " |-- AarsVaerk_2: double (nullable = false)\n",
      " |-- AarsVaerk_3: double (nullable = false)\n",
      " |-- AarsVaerk_4: double (nullable = false)\n",
      " |-- AarsVaerk_5: double (nullable = false)\n",
      " |-- AarsVaerk_6: double (nullable = false)\n",
      " |-- AarsVaerk_7: double (nullable = false)\n",
      " |-- AarsVaerk_8: double (nullable = false)\n",
      " |-- AarsVaerk_9: double (nullable = false)\n",
      " |-- AarsVaerk_10: double (nullable = false)\n",
      " |-- AarsVaerk_11: double (nullable = false)\n",
      " |-- AarsVaerk_12: double (nullable = false)\n",
      " |-- AarsVaerk_13: double (nullable = false)\n",
      " |-- AarsVaerk_14: double (nullable = false)\n",
      " |-- AarsVaerk_15: double (nullable = false)\n",
      " |-- medArb_1: double (nullable = false)\n",
      " |-- medArb_2: double (nullable = false)\n",
      " |-- medArb_3: double (nullable = false)\n",
      " |-- medArb_4: double (nullable = false)\n",
      " |-- medArb_5: double (nullable = false)\n",
      " |-- medArb_6: double (nullable = false)\n",
      " |-- medArb_7: double (nullable = false)\n",
      " |-- medArb_8: double (nullable = false)\n",
      " |-- medArb_9: double (nullable = false)\n",
      " |-- medArb_10: double (nullable = false)\n",
      " |-- medArb_11: double (nullable = false)\n",
      " |-- medArb_12: double (nullable = false)\n",
      " |-- medArb_13: double (nullable = false)\n",
      " |-- medArb_14: double (nullable = false)\n",
      " |-- medArb_15: double (nullable = false)\n",
      " |-- avgVarighed: double (nullable = false)\n",
      " |-- totalAabneEnheder: long (nullable = true)\n",
      " |-- totalLukketEnheder: long (nullable = true)\n",
      " |-- rank_1: double (nullable = false)\n",
      " |-- rank_2: double (nullable = false)\n",
      " |-- rank_3: double (nullable = false)\n",
      " |-- rank_4: double (nullable = false)\n",
      " |-- rank_5: double (nullable = false)\n",
      " |-- rank_6: double (nullable = false)\n",
      " |-- rank_7: double (nullable = false)\n",
      " |-- reklamebeskyttet: boolean (nullable = true)\n",
      " |-- kortBeskrivelse: string (nullable = true)\n",
      " |-- navn: string (nullable = true)\n",
      "\n"
     ]
    }
   ],
   "source": [
    "feature_data.printSchema()"
   ]
  },
  {
   "cell_type": "code",
   "execution_count": null,
   "metadata": {
    "collapsed": true
   },
   "outputs": [],
   "source": []
  },
  {
   "cell_type": "code",
   "execution_count": 38,
   "metadata": {
    "collapsed": true
   },
   "outputs": [],
   "source": []
  },
  {
   "cell_type": "code",
   "execution_count": 56,
   "metadata": {},
   "outputs": [],
   "source": []
  },
  {
   "cell_type": "code",
   "execution_count": null,
   "metadata": {},
   "outputs": [],
   "source": []
  },
  {
   "cell_type": "code",
   "execution_count": 58,
   "metadata": {},
   "outputs": [],
   "source": []
  },
  {
   "cell_type": "code",
   "execution_count": null,
   "metadata": {},
   "outputs": [],
   "source": []
  },
  {
   "cell_type": "code",
   "execution_count": null,
   "metadata": {},
   "outputs": [],
   "source": []
  },
  {
   "cell_type": "code",
   "execution_count": null,
   "metadata": {
    "collapsed": true
   },
   "outputs": [],
   "source": []
  }
 ],
 "metadata": {
  "kernelspec": {
   "display_name": "Python 3",
   "language": "python",
   "name": "python3"
  },
  "language_info": {
   "codemirror_mode": {
    "name": "ipython",
    "version": 3
   },
   "file_extension": ".py",
   "mimetype": "text/x-python",
   "name": "python",
   "nbconvert_exporter": "python",
   "pygments_lexer": "ipython3",
   "version": "3.5.2"
  }
 },
 "nbformat": 4,
 "nbformat_minor": 1
}
