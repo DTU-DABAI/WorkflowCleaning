{
 "cells": [
  {
   "cell_type": "code",
   "execution_count": 1,
   "metadata": {
    "collapsed": true
   },
   "outputs": [],
   "source": [
    "import pyspark\n",
    "from pyspark.mllib.linalg.distributed import MatrixEntry, CoordinateMatrix"
   ]
  },
  {
   "cell_type": "code",
   "execution_count": 2,
   "metadata": {},
   "outputs": [
    {
     "name": "stderr",
     "output_type": "stream",
     "text": [
      "/usr/local/lib/python3.5/dist-packages/pandas/core/computation/__init__.py:18: UserWarning: The installed version of numexpr 2.4.3 is not supported in pandas and will be not be used\n",
      "The minimum supported version is 2.4.6\n",
      "\n",
      "  ver=ver, min_ver=_MIN_NUMEXPR_VERSION), UserWarning)\n"
     ]
    }
   ],
   "source": [
    "import numpy as np\n",
    "import pandas as pd"
   ]
  },
  {
   "cell_type": "code",
   "execution_count": 8,
   "metadata": {},
   "outputs": [
    {
     "name": "stdout",
     "output_type": "stream",
     "text": [
      "[[ 1.   0. ]\n",
      " [ 0.   1. ]\n",
      " [ 0.5  0.5]\n",
      " [ 0.5  0.5]]\n",
      "[[1 0 0 0]\n",
      " [2 1 0 0]\n",
      " [3 4 1 0]\n",
      " [5 6 7 1]]\n",
      "[[  1.    0. ]\n",
      " [  2.    1. ]\n",
      " [  3.5   4.5]\n",
      " [  9.   10. ]]\n"
     ]
    }
   ],
   "source": [
    "X = np.array([[1,0,0,0],[2,1,0,0],[3,4,1,0],[5,6,7,1]])\n",
    "X_r = np.array([[1,2,3,5],[2,1,4,6],[3,4,1,7],[5,6,7,1]])\n",
    "Y = np.array([[1,0],[0,1],[0.5,0.5],[0.5,0.5]])\n",
    "print(Y)\n",
    "print(X)\n",
    "M = X.dot(Y)\n",
    "print(M)"
   ]
  },
  {
   "cell_type": "code",
   "execution_count": 13,
   "metadata": {},
   "outputs": [
    {
     "name": "stdout",
     "output_type": "stream",
     "text": [
      "[[1 2 3 5]\n",
      " [2 1 4 6]\n",
      " [3 4 1 7]\n",
      " [5 6 7 1]]\n",
      "\n",
      "[[  5.   6.]\n",
      " [  7.   6.]\n",
      " [  7.   8.]\n",
      " [  9.  10.]]\n"
     ]
    }
   ],
   "source": [
    "print(X_r)\n",
    "print()\n",
    "print(X_r.dot(Y))\n"
   ]
  },
  {
   "cell_type": "code",
   "execution_count": 59,
   "metadata": {
    "collapsed": true
   },
   "outputs": [],
   "source": [
    "matrix_x_r = sc.parallelize(list(enumerate(map(lambda x: list(enumerate(x)),X_r))))\n",
    "real_X_mat = CoordinateMatrix(\n",
    "    matrix_x_r.flatMap(lambda x: [(x[0], *a) for a in x[1]]).map(lambda x: MatrixEntry(*x)),\n",
    "    numRows=4, numCols=4)"
   ]
  },
  {
   "cell_type": "code",
   "execution_count": 66,
   "metadata": {},
   "outputs": [
    {
     "data": {
      "text/plain": [
       "[MatrixEntry(0, 0, 1.0),\n",
       " MatrixEntry(1, 0, 2.0),\n",
       " MatrixEntry(1, 1, 1.0),\n",
       " MatrixEntry(2, 0, 3.0),\n",
       " MatrixEntry(2, 1, 4.0)]"
      ]
     },
     "execution_count": 66,
     "metadata": {},
     "output_type": "execute_result"
    }
   ],
   "source": [
    "matrix_x = sc.parallelize(list(enumerate(map(lambda x: list(enumerate(x)),X))))\n",
    "X_mat = CoordinateMatrix(\n",
    "    matrix_x.flatMap(lambda x: [(x[0], *a) for a in x[1]]).filter(lambda x: x[2] != 0.0).map(lambda x: MatrixEntry(*x)),\n",
    "    numRows=4, numCols=4)\n",
    "X_mat.entries.take(5)"
   ]
  },
  {
   "cell_type": "code",
   "execution_count": 64,
   "metadata": {},
   "outputs": [
    {
     "data": {
      "text/plain": [
       "[MatrixEntry(0, 0, 1.0),\n",
       " MatrixEntry(1, 1, 1.0),\n",
       " MatrixEntry(2, 0, 0.5),\n",
       " MatrixEntry(2, 1, 0.5),\n",
       " MatrixEntry(3, 0, 0.5),\n",
       " MatrixEntry(3, 1, 0.5)]"
      ]
     },
     "execution_count": 64,
     "metadata": {},
     "output_type": "execute_result"
    }
   ],
   "source": [
    "matrix_y = sc.parallelize(list(enumerate(map(lambda x: list(enumerate(x)),Y))))\n",
    "Y_mat = CoordinateMatrix(\n",
    "    matrix_y.flatMap(lambda x: [(x[0], *a) for a in x[1]]).filter(lambda x: x[2] != 0.0).map(lambda x: MatrixEntry(*x)),\n",
    "    numRows=4, numCols=2)\n",
    "Y_mat.entries.collect()"
   ]
  },
  {
   "cell_type": "code",
   "execution_count": 107,
   "metadata": {
    "collapsed": true
   },
   "outputs": [],
   "source": [
    "def naive_multiplication(A:CoordinateMatrix, B:CoordinateMatrix, is_triangle=False):\n",
    "    \"\"\"\n",
    "    A is the left matrix\n",
    "    B is the right matix\n",
    "    \"\"\"\n",
    "    if is_triangle:\n",
    "        left_rdd = (A.entries\n",
    "                    .flatMap(lambda x: [((x.j, x.i), x.value),((x.i, x.j), x.value)])\n",
    "                    .aggregateByKey(\n",
    "                        zeroValue=(0.0,0.0),\n",
    "                        seqFunc=lambda x,y: (x[0]+y, x[1] + 1 ),\n",
    "                        combFunc=lambda a,b: (x[0] + y[0], x[1] + y[1]))\n",
    "                    .mapValues(lambda x: x[0]/x[1])\n",
    "                    .map(lambda x: (x[0][0], (x[0][1], x[1])))\n",
    "                   )\n",
    "    else:\n",
    "        left_rdd = A.entries.map(lambda x: (x.j, (x.i, x.value))) \n",
    "    right_rdd = B.entries.map(lambda x: (x.i, (x.j, x.value)))\n",
    "    combined_rdd = (left_rdd\n",
    "                    .join(right_rdd)\n",
    "                    .map(lambda x: x[1])\n",
    "                    .map(lambda x: ((x[0][0], x[1][0]), x[0][1]*x[1][1]))\n",
    "                    .reduceByKey(lambda x,y: x+y)\n",
    "                    .map(lambda x: MatrixEntry(i=x[0][0], j=x[0][1], value=x[1]))\n",
    "                   )\n",
    "    return combined_rdd"
   ]
  },
  {
   "cell_type": "code",
   "execution_count": 108,
   "metadata": {},
   "outputs": [
    {
     "data": {
      "text/plain": [
       "[MatrixEntry(2, 0, 7.0),\n",
       " MatrixEntry(3, 0, 9.0),\n",
       " MatrixEntry(0, 1, 6.0),\n",
       " MatrixEntry(0, 0, 5.0),\n",
       " MatrixEntry(3, 1, 10.0),\n",
       " MatrixEntry(1, 0, 7.0),\n",
       " MatrixEntry(1, 1, 6.0),\n",
       " MatrixEntry(2, 1, 8.0)]"
      ]
     },
     "execution_count": 108,
     "metadata": {},
     "output_type": "execute_result"
    }
   ],
   "source": [
    "real_product = naive_multiplication(real_X_mat,Y_mat)\n",
    "real_product.collect()"
   ]
  },
  {
   "cell_type": "code",
   "execution_count": 109,
   "metadata": {},
   "outputs": [
    {
     "name": "stdout",
     "output_type": "stream",
     "text": [
      "[[  5.   6.]\n",
      " [  7.   6.]\n",
      " [  7.   8.]\n",
      " [  9.  10.]]\n"
     ]
    }
   ],
   "source": [
    "print(X_r.dot(Y))"
   ]
  },
  {
   "cell_type": "code",
   "execution_count": 110,
   "metadata": {},
   "outputs": [
    {
     "data": {
      "text/plain": [
       "[MatrixEntry(2, 0, 7.0),\n",
       " MatrixEntry(3, 0, 9.0),\n",
       " MatrixEntry(0, 1, 6.0),\n",
       " MatrixEntry(0, 0, 5.0),\n",
       " MatrixEntry(3, 1, 10.0),\n",
       " MatrixEntry(1, 0, 7.0),\n",
       " MatrixEntry(1, 1, 6.0),\n",
       " MatrixEntry(2, 1, 8.0)]"
      ]
     },
     "execution_count": 110,
     "metadata": {},
     "output_type": "execute_result"
    }
   ],
   "source": [
    "triangle_product = naive_multiplication(X_mat,Y_mat,is_triangle=True)\n",
    "triangle_product.collect()\n",
    "# tmp = X_mat.entries.flatMap(lambda x: [((x.j, x.i), x.value),((x.i, x.j), x.value)])\n",
    "# tmp= tmp.aggregateByKey(\n",
    "#     zeroValue=(0.0,0.0),\n",
    "#     seqFunc=lambda x,y: (x[0]+y, x[1] + 1 ),\n",
    "#     combFunc=lambda a,b: (x[0] + y[0], x[1] + y[1]))\n",
    "# tmp.mapValues(lambda x: x[0]/x[1]).collect()"
   ]
  },
  {
   "cell_type": "code",
   "execution_count": 102,
   "metadata": {},
   "outputs": [
    {
     "data": {
      "text/plain": [
       "[MatrixEntry(0, 0, 1.0),\n",
       " MatrixEntry(0, 1, 2.0),\n",
       " MatrixEntry(0, 2, 3.0),\n",
       " MatrixEntry(0, 3, 5.0),\n",
       " MatrixEntry(1, 0, 2.0),\n",
       " MatrixEntry(1, 1, 1.0),\n",
       " MatrixEntry(1, 2, 4.0),\n",
       " MatrixEntry(1, 3, 6.0),\n",
       " MatrixEntry(2, 0, 3.0),\n",
       " MatrixEntry(2, 1, 4.0),\n",
       " MatrixEntry(2, 2, 1.0),\n",
       " MatrixEntry(2, 3, 7.0),\n",
       " MatrixEntry(3, 0, 5.0),\n",
       " MatrixEntry(3, 1, 6.0),\n",
       " MatrixEntry(3, 2, 7.0),\n",
       " MatrixEntry(3, 3, 1.0)]"
      ]
     },
     "execution_count": 102,
     "metadata": {},
     "output_type": "execute_result"
    }
   ],
   "source": [
    "real_X_mat.entries.collect()"
   ]
  },
  {
   "cell_type": "code",
   "execution_count": null,
   "metadata": {
    "collapsed": true
   },
   "outputs": [],
   "source": []
  }
 ],
 "metadata": {
  "kernelspec": {
   "display_name": "Python 3",
   "language": "python",
   "name": "python3"
  },
  "language_info": {
   "codemirror_mode": {
    "name": "ipython",
    "version": 3
   },
   "file_extension": ".py",
   "mimetype": "text/x-python",
   "name": "python",
   "nbconvert_exporter": "python",
   "pygments_lexer": "ipython3",
   "version": "3.5.2"
  }
 },
 "nbformat": 4,
 "nbformat_minor": 2
}
