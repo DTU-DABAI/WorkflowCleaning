{
 "cells": [
  {
   "cell_type": "code",
   "execution_count": 1,
   "metadata": {},
   "outputs": [
    {
     "name": "stdout",
     "output_type": "stream",
     "text": [
      "/home/sidsel/workspace/DABAI/PyCharmProjects/WorkflowCleaning\n"
     ]
    }
   ],
   "source": [
    "#Python related imports\n",
    "from ipywidgets import widgets\n",
    "from IPython.display import display, Javascript, HTML\n",
    "import os, sys\n",
    "\n",
    "\n",
    "module_path = os.path.abspath(os.path.join('..'))\n",
    "if module_path not in sys.path:\n",
    "    sys.path.append(module_path)\n",
    "print(module_path)\n",
    "from sample.CreateParameters import CreateParameters"
   ]
  },
  {
   "cell_type": "code",
   "execution_count": 2,
   "metadata": {
    "collapsed": true
   },
   "outputs": [],
   "source": [
    "feat = [\"x\",\"y\",\"z\",\"v\",\"w\"]\n",
    "models = [\"KMeans\",\"BisectingKmeans\",\"LDA\",\"GM\"]\n",
    "algos = [\"random\",\"kmeans ||\"]\n",
    "propCol = [\"x\",\"y\",\"z\"]"
   ]
  },
  {
   "cell_type": "code",
   "execution_count": 3,
   "metadata": {},
   "outputs": [
    {
     "data": {
      "application/vnd.jupyter.widget-view+json": {
       "model_id": "8fa18af2d85c454d9cda21a5ab6a5277"
      }
     },
     "metadata": {},
     "output_type": "display_data"
    }
   ],
   "source": [
    "cp = CreateParameters(feature_cols=feat)\n",
    "\n",
    "model = widgets.Select(options = models, value = models[0], description = \"Models\", disabled=False)\n",
    "km = widgets.Dropdown(options = algos, value = algos[0], description = \"Algorithms\", disabled = False)\n",
    "slide = widgets.IntSlider(value=10, min=2, max=100, step=1, description='Iterations: ')\n",
    "cluster_slider = widgets.IntSlider(value=10, min=2, max=100, step=1, description='Clusters: ')\n",
    "box = widgets.HBox((model,))\n",
    "new_box = widgets.HBox([cluster_slider,km,slide])\n",
    "\n",
    "def on_change_dropdown(change):\n",
    "    \n",
    "    new_line = [cluster_slider]\n",
    "    if change.new == \"KMeans\":\n",
    "        new_line.append(km)\n",
    "        new_line.append(slide)\n",
    "    elif change.new == \"LDA\":\n",
    "        probability = widgets.Select(options = propCol, value = propCol[0], description = \"Probabilty\", disabled=False)\n",
    "        new_line.append(probability)\n",
    "    \n",
    "    new_box.children = [i for i in new_line]\n",
    "    \n",
    "    \n",
    "model.observe(on_change_dropdown,names=\"value\")\n",
    "display(widgets.VBox((box,new_box,)) )      \n"
   ]
  },
  {
   "cell_type": "code",
   "execution_count": 5,
   "metadata": {},
   "outputs": [
    {
     "name": "stdout",
     "output_type": "stream",
     "text": [
      "32\n",
      "x\n"
     ]
    }
   ],
   "source": [
    "for nb in new_box.children:\n",
    "    print( nb.value)"
   ]
  },
  {
   "cell_type": "code",
   "execution_count": 54,
   "metadata": {
    "collapsed": true
   },
   "outputs": [],
   "source": [
    "x = {1:\"hej\",2:\"med\",3:\"dig\"}"
   ]
  },
  {
   "cell_type": "code",
   "execution_count": 9,
   "metadata": {},
   "outputs": [
    {
     "name": "stderr",
     "output_type": "stream",
     "text": [
      "Widget Javascript not detected.  It may not be installed or enabled properly.\n"
     ]
    },
    {
     "data": {
      "application/vnd.jupyter.widget-view+json": {
       "model_id": "1af0eff27ff2439b9e409d7b3dea27e7"
      }
     },
     "metadata": {},
     "output_type": "display_data"
    },
    {
     "name": "stderr",
     "output_type": "stream",
     "text": [
      "Widget Javascript not detected.  It may not be installed or enabled properly.\n"
     ]
    },
    {
     "data": {
      "application/vnd.jupyter.widget-view+json": {
       "model_id": "6d0fd2b3f84147e9b719fd480eeb1d9c"
      }
     },
     "metadata": {},
     "output_type": "display_data"
    }
   ],
   "source": [
    "caption = widgets.Label(value='The values of range1 and range2 are synchronized')\n",
    "data = widgets.Text()\n",
    "slider = widgets.IntSlider(min=-5, max=15, value=1, description='Slider')\n",
    "\n",
    "def handle_slider_change(change):\n",
    "    if change.new < 10 and change.new >= 0:\n",
    "        data.value = \"less than 10\"\n",
    "    elif change.new < 0:\n",
    "        data.value  =\"less than 0\"\n",
    "    else:\n",
    "        data.value =\"something\"\n",
    "\n",
    "slider.observe(handle_slider_change, names='value')\n",
    "\n",
    "display(caption, slider)"
   ]
  },
  {
   "cell_type": "code",
   "execution_count": 130,
   "metadata": {},
   "outputs": [
    {
     "data": {
      "text/plain": [
       "'less than 0'"
      ]
     },
     "execution_count": 130,
     "metadata": {},
     "output_type": "execute_result"
    }
   ],
   "source": [
    "data.value"
   ]
  },
  {
   "cell_type": "code",
   "execution_count": 7,
   "metadata": {
    "collapsed": true
   },
   "outputs": [],
   "source": [
    "import traitlets"
   ]
  },
  {
   "cell_type": "code",
   "execution_count": 8,
   "metadata": {},
   "outputs": [
    {
     "data": {
      "application/vnd.jupyter.widget-view+json": {
       "model_id": "c16129d8581a49fb81cadc4b03cba862"
      }
     },
     "metadata": {},
     "output_type": "display_data"
    },
    {
     "data": {
      "application/vnd.jupyter.widget-view+json": {
       "model_id": "ba294b2755774c3d9a28e540af7344c6"
      }
     },
     "metadata": {},
     "output_type": "display_data"
    },
    {
     "data": {
      "application/vnd.jupyter.widget-view+json": {
       "model_id": "c489ea7c10bc4a5dbc72c3efbf525244"
      }
     },
     "metadata": {},
     "output_type": "display_data"
    }
   ],
   "source": [
    "\n",
    "\n",
    "caption = widgets.Label(value='The values of slider1 and slider2 are synchronized')\n",
    "sliders1, text1 = widgets.IntSlider(description='Slider 1'),widgets.IntText()\n",
    "l = traitlets.link((sliders1, 'value'), (text1, 'value'))\n",
    "display(caption, sliders1, text1)\n",
    "\n"
   ]
  },
  {
   "cell_type": "code",
   "execution_count": null,
   "metadata": {
    "collapsed": true
   },
   "outputs": [],
   "source": []
  }
 ],
 "metadata": {
  "kernelspec": {
   "display_name": "Python 3",
   "language": "python",
   "name": "python3"
  },
  "language_info": {
   "codemirror_mode": {
    "name": "ipython",
    "version": 3
   },
   "file_extension": ".py",
   "mimetype": "text/x-python",
   "name": "python",
   "nbconvert_exporter": "python",
   "pygments_lexer": "ipython3",
   "version": "3.5.2"
  }
 },
 "nbformat": 4,
 "nbformat_minor": 2
}
