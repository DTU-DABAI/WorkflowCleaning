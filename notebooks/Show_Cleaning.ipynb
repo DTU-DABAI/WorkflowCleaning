{
 "cells": [
  {
   "cell_type": "code",
   "execution_count": null,
   "metadata": {
    "collapsed": true
   },
   "outputs": [],
   "source": [
    "import sys, os, getpass"
   ]
  },
  {
   "cell_type": "code",
   "execution_count": null,
   "metadata": {},
   "outputs": [],
   "source": [
    "module_path = os.path.abspath(os.path.join('..'))\n",
    "if module_path not in sys.path:\n",
    "    sys.path.append(module_path)\n",
    "print(module_path)\n",
    "\n",
    "user = getpass.getuser()\n",
    "\n",
    "if user == \"sidsel\":\n",
    "    parquet_path = \"/home/sidsel/workspace/sparkdata/parquet\"\n",
    "elif user == \"svanhmic\":\n",
    "    parquet_path = \"/home/svanhmic/workspace/data/DABAI/sparkdata/parquet\""
   ]
  },
  {
   "cell_type": "code",
   "execution_count": null,
   "metadata": {
    "collapsed": true
   },
   "outputs": [],
   "source": [
    "#from sample.DataIO import DataIO\n",
    "#data = DataIO(sc,feature_path=parquet_path+\"/featureDataCvr.parquet\",company_path=parquet_path+\"/companyCvrData\")\n",
    "#feature_data = data.mergeCompanyFeatureData()"
   ]
  },
  {
   "cell_type": "code",
   "execution_count": null,
   "metadata": {
    "scrolled": false
   },
   "outputs": [],
   "source": [
    "#import data!\n",
    "from pyspark.sql import functions as F\n",
    "from shared.create_dummy_data import create_dummy_data \n",
    "\n",
    "feature_data = create_dummy_data(1000, \"x y z\", \"label\", outlier_number=0.2, outlier_factor=20)\n",
    "#feature_data = feature_data.select([(10*F.col(i)).alias(i) for i in [\"x\",\"y\",\"z\"]])\n",
    "feature_data.orderBy('x',ascending=[0,0,0]).show()"
   ]
  },
  {
   "cell_type": "code",
   "execution_count": null,
   "metadata": {
    "collapsed": true
   },
   "outputs": [],
   "source": [
    "#Select parameters\n",
    "from cleaning.CreateParametersCleaning import ParamsCleaning\n",
    "\n",
    "params = ParamsCleaning()"
   ]
  },
  {
   "cell_type": "code",
   "execution_count": null,
   "metadata": {
    "scrolled": false
   },
   "outputs": [],
   "source": [
    "parameters = params.select_parameters()\n",
    "parameters"
   ]
  },
  {
   "cell_type": "code",
   "execution_count": null,
   "metadata": {
    "collapsed": true
   },
   "outputs": [],
   "source": []
  },
  {
   "cell_type": "code",
   "execution_count": null,
   "metadata": {},
   "outputs": [],
   "source": [
    "print(params.output_parameters(parameters))\n",
    "#dicKM = {'initialstep': 10, 'optimizer': None, 'seed': 42, 'mindivisbleClusterSize': 1.0, 'model': 'KMeans', 'initialmode': 'random', 'prediction': 'prediction', 'iterations': 10, 'probability': None, 'features': ('x','y','z'), 'label':('label'), 'standardize': True, 'clusters': 2, 'tolerance': 0.0001}#{'initialstep': 10, 'optimizer': None, 'seed': 42, 'mindivisbleClusterSize': 1.0, 'model': 'KMeans', 'initialmode': 'random', 'prediction': 'prediction', 'iterations': 10, 'probability': None, 'features': ('AarsVaerk_1', 'AarsVaerk_2', 'AarsVaerk_3', 'AarsVaerk_4'), 'label':(\"cvrNummer\",\"navn\"), 'standardize': True, 'clusters': 2, 'tolerance': 0.0001}\n",
    "#dicBKM = {'initialstep': 10, 'optimizer': None, 'seed': 42, 'mindivisbleClusterSize': 1.0, 'model': 'BisectingKMeans', 'initialmode': 'random', 'prediction': 'prediction', 'iterations': 10, 'probability': None, 'features': ('x','y','z'), 'label':('label'), 'standardize': True, 'clusters': 2, 'tolerance': 0.0001}#{'initialstep': 10, 'optimizer': None, 'seed': 42, 'mindivisbleClusterSize': 1.0, 'model': 'BisectingKMeans', 'initialmode': 'random', 'prediction': 'prediction', 'iterations': 10, 'probability': None, 'features': ('AarsVaerk_1', 'AarsVaerk_2', 'AarsVaerk_3', 'AarsVaerk_4'), 'label':(\"cvrNummer\",\"navn\"), 'standardize': False, 'clusters': 2, 'tolerance': 0.0001}\n",
    "\n",
    "# NOTE!!! Data is note standardized due to random variable is between 0-1 and outliers are beyond\n",
    "#dicGMM = {'initialstep': 10, 'optimizer': None, 'seed': 42, 'mindivisbleClusterSize': 1.0, 'model': 'GaussianMixture', 'initialmode': 'random', 'prediction': 'prediction', 'iterations': 10, 'probability': None, 'features': ('x','y','z'), 'label':('label'), 'standardize': False, 'clusters': 10, 'tolerance': 0.0001}#{'initialstep': 10, 'optimizer': None, 'seed': 42, 'mindivisbleClusterSize': 1.0, 'model': 'GaussianMixture', 'initialmode': 'random', 'prediction': 'prediction', 'iterations': 10, 'probability': None, 'features': ('AarsVaerk_1', 'AarsVaerk_2', 'AarsVaerk_3', 'AarsVaerk_4'), 'label':(\"cvrNummer\",\"navn\"), 'standardize': True, 'clusters': 10, 'tolerance': 0.0001} #\n",
    "#{'features': ('AarsVaerk_1', 'AarsVaerk_2', 'AarsVaerk_3', 'AarsVaerk_4'), 'initialstep': 10, 'standardize': True, 'clusters': 3, 'model': 'KMeans', 'initialmode': 'random', 'prediction': 'Prediction', 'iterations': 10}"
   ]
  },
  {
   "cell_type": "code",
   "execution_count": null,
   "metadata": {
    "collapsed": true
   },
   "outputs": [],
   "source": [
    "from cleaning.ExecuteCleaningWorkflow import ExecuteWorkflow\n",
    "\n",
    "execution_model = ExecuteWorkflow(dict_params=params.output_parameters(parameters)\n",
    "                                ,cols_features=['x','y','z']\n",
    "                                ,cols_labels=['label'])\n",
    "\n",
    "collection_of_data = [create_dummy_data(i, \"x y z\", \"label\", outlier_number=0.2, outlier_factor=20) for i in [1000,100000, 1000000]]\n",
    "collection_of_transformed = []\n"
   ]
  },
  {
   "cell_type": "code",
   "execution_count": null,
   "metadata": {
    "scrolled": true
   },
   "outputs": [],
   "source": [
    "collection_of_data"
   ]
  },
  {
   "cell_type": "code",
   "execution_count": null,
   "metadata": {},
   "outputs": [],
   "source": [
    "import logging\n",
    "\n",
    "logger_tester = logging.getLogger(__name__)\n",
    "logger_tester.setLevel(logging.INFO)\n",
    "logger_file_handler_param = logging.FileHandler('/tmp/workflow_test.log')\n",
    "logger_formatter_param = logging.Formatter('%(asctime)s:%(levelname)s:%(name)s:%(message)s')\n",
    "\n",
    "logger_tester.addHandler(logger_file_handler_param)\n",
    "logger_file_handler_param.setFormatter(logger_formatter_param)\n",
    "\n",
    "for idx, df_data in enumerate(collection_of_data):\n",
    "    collection_of_model = []\n",
    "    model_timer = %timeit -o collection_of_model.append(execution_model.execute_pipeline(df_data))  \n",
    "    transformer_timer = %timeit -o collection_of_transformed.append(execution_model.apply_model(collection_of_model[0],df_data))\n",
    "    collection_of_transformed = collection_of_transformed[:idx+1]\n",
    "    logger_tester.info('Iteration '+str(idx)+' for fitting model gave: '+str(model_timer))\n",
    "    logger_tester.info('Iteration '+str(idx)+' for transforming model gave: '+str(transformer_timer))\n",
    "#merged_df.write.parquet('/home/svanhmic/workspace/data/DABAI/sparkdata/parquet/merged_df_parquet')"
   ]
  },
  {
   "cell_type": "code",
   "execution_count": null,
   "metadata": {},
   "outputs": [],
   "source": [
    "model_timer"
   ]
  },
  {
   "cell_type": "code",
   "execution_count": null,
   "metadata": {
    "scrolled": true
   },
   "outputs": [],
   "source": [
    "#counts = [i.rdd.partitions.size for i in collection_of_transformed]\n",
    "rdd = collection_of_data[2].rdd\n",
    "print(rdd."
   ]
  },
  {
   "cell_type": "code",
   "execution_count": null,
   "metadata": {
    "collapsed": true,
    "scrolled": true
   },
   "outputs": [],
   "source": [
    "from cleaning.ShowCleaning import ShowResults\n",
    "\n",
    "results = ShowResults(execution_model.params_labs_feats, list_features=['x','y','z'], list_labels=['label'] )"
   ]
  },
  {
   "cell_type": "code",
   "execution_count": null,
   "metadata": {
    "scrolled": false
   },
   "outputs": [],
   "source": [
    "df_with_dists = results.select_prototypes(merged_df)"
   ]
  },
  {
   "cell_type": "code",
   "execution_count": null,
   "metadata": {},
   "outputs": [],
   "source": [
    "merged_df.show()"
   ]
  },
  {
   "cell_type": "code",
   "execution_count": null,
   "metadata": {
    "collapsed": true
   },
   "outputs": [],
   "source": []
  },
  {
   "cell_type": "code",
   "execution_count": null,
   "metadata": {
    "collapsed": true
   },
   "outputs": [],
   "source": [
    "#widget_select_cluster = widgets.Dropdown(options=['Cluster-'+str(i+1) for i in range(10)])\n",
    "#display(widget_select_cluster)"
   ]
  },
  {
   "cell_type": "code",
   "execution_count": null,
   "metadata": {
    "collapsed": true,
    "scrolled": true
   },
   "outputs": [],
   "source": []
  },
  {
   "cell_type": "code",
   "execution_count": null,
   "metadata": {
    "collapsed": true
   },
   "outputs": [],
   "source": []
  },
  {
   "cell_type": "markdown",
   "metadata": {},
   "source": [
    "# Waring experimental comming up!!!"
   ]
  },
  {
   "cell_type": "code",
   "execution_count": null,
   "metadata": {
    "collapsed": true
   },
   "outputs": [],
   "source": [
    "import seaborn as sb\n",
    "import pandas as pd\n",
    "import numpy as np\n",
    "import matplotlib.pyplot as plt"
   ]
  },
  {
   "cell_type": "code",
   "execution_count": null,
   "metadata": {
    "collapsed": true
   },
   "outputs": [],
   "source": [
    "ax = sb.jointplot(data=pd_results,x='x',y='y')\n",
    "plt.show()"
   ]
  },
  {
   "cell_type": "code",
   "execution_count": null,
   "metadata": {
    "collapsed": true
   },
   "outputs": [],
   "source": [
    "from shared import ComputeDistances\n",
    "from pyspark.sql import types as T\n",
    "from pyspark.ml.linalg import VectorUDT, Vectors\n",
    "\n",
    "udf_subtract = F.udf(lambda x, y: Vectors.dense(ComputeDistances.subtract_vectors(x,y)),VectorUDT())\n",
    "udf_picewise_dist = F.udf(lambda x,y: Vectors.dense(np.abs(x.array-y.array)),VectorUDT())\n",
    "\n",
    "df = runTest.withColumn(\"picewise_distance\",udf_picewise_dist(F.col(\"centers\"),F.col(\"features\")))"
   ]
  },
  {
   "cell_type": "code",
   "execution_count": null,
   "metadata": {
    "collapsed": true
   },
   "outputs": [],
   "source": [
    "df.show(5)"
   ]
  },
  {
   "cell_type": "code",
   "execution_count": null,
   "metadata": {
    "collapsed": true
   },
   "outputs": [],
   "source": [
    "testDf = (df\n",
    "          .select('prediction','picewise_distance')\n",
    "          .rdd\n",
    "          .reduceByKey(lambda x,y : x+y)\n",
    "          #.mapValues(lambda x: x.array.tolist())\n",
    "          .map(lambda x: itertools.chain.from_iterable(([x[0]],x[1])))\n",
    "          .map(lambda x: [float(i) for i in x])\n",
    "          .toDF([\"prediction\", 'picewise_distance_x','picewise_distance_y','picewise_distance_z'])\n",
    "         )\n",
    "\n",
    "testDf.take(5)"
   ]
  },
  {
   "cell_type": "code",
   "execution_count": null,
   "metadata": {
    "collapsed": true
   },
   "outputs": [],
   "source": [
    "pdf = testDf.toPandas()\n",
    "pdf['total'] = pdf['picewise_distance_x']+pdf['picewise_distance_y']\n",
    "\n",
    "\n",
    "sb.set_style(\"white\")\n",
    "sb.set_context({\"figure.figsize\": (24, 10)})\n",
    "\n",
    "sb.barplot(x='prediction',y=pdf['total'],data=pdf, color = \"blue\")\n",
    "bottom_plot = sb.barplot(x='prediction',y=pdf['picewise_distance_x'],data=pdf, color = \"red\")\n",
    "\n",
    "topbar = plt.Rectangle((0,0),1,1,fc=\"red\", edgecolor = 'none')\n",
    "bottombar = plt.Rectangle((0,0),1,1,fc='blue',  edgecolor = 'none')\n",
    "l = plt.legend([bottombar, topbar], ['Bottom Bar', 'Top Bar'], loc=1, ncol = 2, prop={'size':16})\n",
    "l.draw_frame(False)\n",
    "\n",
    "#Optional code - Make plot look nicer\n",
    "sb.despine(left=True)\n",
    "\n",
    "\n",
    "plt.xlabel('Clusters')\n",
    "plt.ylabel('Diff')\n",
    "plt.show()"
   ]
  },
  {
   "cell_type": "code",
   "execution_count": null,
   "metadata": {
    "collapsed": true,
    "scrolled": true
   },
   "outputs": [],
   "source": [
    "prediction_pdf = pdf['prediction']\n",
    "cumulative_pdf = pdf.loc[:, 'picewise_distance_x':'picewise_distance_z'].cumsum(axis=1)"
   ]
  },
  {
   "cell_type": "code",
   "execution_count": null,
   "metadata": {
    "collapsed": true
   },
   "outputs": [],
   "source": [
    "final_pdf = pd.concat([prediction_pdf,cumulative_pdf],axis=1)"
   ]
  },
  {
   "cell_type": "code",
   "execution_count": null,
   "metadata": {
    "collapsed": true
   },
   "outputs": [],
   "source": [
    "final_pdf"
   ]
  },
  {
   "cell_type": "code",
   "execution_count": null,
   "metadata": {
    "collapsed": true
   },
   "outputs": [],
   "source": [
    "def make_components_histogram(aggregated_components,feature_list):\n",
    "    prediction_pdf = pdf['prediction']\n",
    "    cumulative_pdf = pdf.loc[:, feature_list].cumsum(axis=1)\n",
    "    pdf = pd.concat([prediction_pdf,cumulative_pdf],axis=1)\n",
    "    "
   ]
  }
 ],
 "metadata": {
  "kernelspec": {
   "display_name": "Python 3",
   "language": "python",
   "name": "python3"
  },
  "language_info": {
   "codemirror_mode": {
    "name": "ipython",
    "version": 3
   },
   "file_extension": ".py",
   "mimetype": "text/x-python",
   "name": "python",
   "nbconvert_exporter": "python",
   "pygments_lexer": "ipython3",
   "version": "3.5.2"
  }
 },
 "nbformat": 4,
 "nbformat_minor": 1
}
