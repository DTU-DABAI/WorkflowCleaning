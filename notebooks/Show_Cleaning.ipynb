{
 "cells": [
  {
   "cell_type": "code",
   "execution_count": null,
   "metadata": {},
   "outputs": [],
   "source": [
    "# Make sure that Python starts in Workflow-folder or else the modules will be screewed up!\n",
    "import sys, os, getpass\n",
    "module_path = os.path.abspath(os.path.join('..'))\n",
    "if module_path not in sys.path:\n",
    "    sys.path.append(module_path)\n",
    "print(module_path)\n",
    "\n",
    "user = getpass.getuser()\n",
    "\n",
    "if user == \"sidsel\":\n",
    "    parquet_path = \"/home/sidsel/workspace/sparkdata/parquet\"\n",
    "elif user == \"svanhmic\":\n",
    "    parquet_path = \"/home/svanhmic/workspace/data/DABAI/sparkdata/parquet\"\n",
    "    \n",
    "# Start the logger.\n",
    "import logging\n",
    "logger_tester = logging.getLogger(__name__)\n",
    "logger_tester.setLevel(logging.INFO)\n",
    "logger_file_handler_param = logging.FileHandler('/tmp/workflow_test.log')\n",
    "logger_formatter_param = logging.Formatter('%(asctime)s:%(levelname)s:%(name)s:%(message)s')\n",
    "\n",
    "logger_tester.addHandler(logger_file_handler_param)\n",
    "logger_file_handler_param.setFormatter(logger_formatter_param)"
   ]
  },
  {
   "cell_type": "code",
   "execution_count": null,
   "metadata": {},
   "outputs": [],
   "source": [
    "from shared.Extension_to_timeit import pretty_time_result\n",
    "from shared.GeneralDataImport import GeneralDataImport\n",
    "\n",
    "dataIO = GeneralDataImport(parquet_path+\"/normal_cluster_n_1000.parquet\")"
   ]
  },
  {
   "cell_type": "code",
   "execution_count": null,
   "metadata": {},
   "outputs": [],
   "source": [
    "dataIO.select_columns()"
   ]
  },
  {
   "cell_type": "code",
   "execution_count": null,
   "metadata": {},
   "outputs": [],
   "source": [
    "df = dataIO.data_frame\n",
    "\n",
    "df.count()"
   ]
  },
  {
   "cell_type": "code",
   "execution_count": null,
   "metadata": {
    "collapsed": true,
    "scrolled": false
   },
   "outputs": [],
   "source": [
    "#import data!\n",
    "#from pyspark.sql import functions as F\n",
    "#from shared.create_dummy_data import create_dummy_data \n",
    "\n",
    "#test_timer = %timeit -o feature_data = create_dummy_data(1000, \"x y z\", \"label\", outlier_number=0.2, outlier_factor=20)\n",
    "#feature_data = feature_data.select([(10*F.col(i)).alias(i) for i in [\"x\",\"y\",\"z\"]])\n",
    "#feature_data.orderBy('x',ascending=[0,0,0]).show()"
   ]
  },
  {
   "cell_type": "code",
   "execution_count": null,
   "metadata": {
    "collapsed": true
   },
   "outputs": [],
   "source": [
    "#Select parameters\n",
    "#from cleaning.CreateParametersCleaning import ParamsCleaning\n",
    "\n",
    "#params = ParamsCleaning()\n",
    "#parameters = params.select_parameters()"
   ]
  },
  {
   "cell_type": "code",
   "execution_count": null,
   "metadata": {
    "collapsed": true,
    "scrolled": false
   },
   "outputs": [],
   "source": [
    "#parameters"
   ]
  },
  {
   "cell_type": "code",
   "execution_count": null,
   "metadata": {
    "collapsed": true
   },
   "outputs": [],
   "source": [
    "#print(params.output_parameters(parameters))\n",
    "test_params_1 = {'tol': 0.001, 'k': 3, 'maxIter': 10, 'algorithm': 'GaussianMixture', 'seed': 1080866016001745000}"
   ]
  },
  {
   "cell_type": "code",
   "execution_count": null,
   "metadata": {},
   "outputs": [],
   "source": [
    "print(sc.defaultMinPartitions)\n",
    "print(sc.defaultParallelism)\n",
    "conf = sc.getConf()\n",
    "#conf.getAll()"
   ]
  },
  {
   "cell_type": "code",
   "execution_count": null,
   "metadata": {
    "collapsed": true
   },
   "outputs": [],
   "source": [
    "from cleaning.ExecuteCleaningWorkflow import ExecuteWorkflow\n",
    "\n",
    "n = [3, 5] # number of samples 1000, 100000, 1000000\n",
    "\n",
    "execution_model = ExecuteWorkflow(\n",
    "    dict_params=test_params_1,\n",
    "    cols_features=list(map(lambda x: x.name,dataIO.list_features)), \n",
    "    cols_labels=list(map(lambda x: x.name,dataIO.list_label)))\n",
    "\n",
    "collection_of_data = []\n",
    "collection_of_model = []\n",
    "collection_of_transformed = []\n",
    "counts = [i.rdd.getNumPartitions() for i in collection_of_data]\n",
    "counts\n",
    "collection_of_data.append(df)"
   ]
  },
  {
   "cell_type": "code",
   "execution_count": null,
   "metadata": {},
   "outputs": [],
   "source": [
    "for idx, data in enumerate(collection_of_data):\n",
    "    model_timer = %timeit -o collection_of_model.append(execution_model.execute_pipeline(data)) \n",
    "    transformer_timer = %timeit -o execution_model.apply_model(collection_of_model[0],data)\n",
    "    collection_of_model = collection_of_model[:idx+1]\n",
    "    logger_tester.info('Iteration '+str(idx)+' for training model : '+pretty_time_result(model_timer))\n",
    "    logger_tester.info('Iteration '+str(idx)+' for transforming model : '+pretty_time_result(transformer_timer))\n",
    "    #merged_df.write.parquet('/home/svanhmic/workspace/data/DABAI/sparkdata/parquet/merged_df_parquet')"
   ]
  },
  {
   "cell_type": "code",
   "execution_count": null,
   "metadata": {},
   "outputs": [],
   "source": [
    "collection_of_model"
   ]
  },
  {
   "cell_type": "code",
   "execution_count": null,
   "metadata": {
    "scrolled": false
   },
   "outputs": [],
   "source": [
    "df_result = execution_model.apply_model(collection_of_model[0],collection_of_data[0])\n",
    "df_result.show(3)"
   ]
  },
  {
   "cell_type": "code",
   "execution_count": null,
   "metadata": {
    "collapsed": true,
    "scrolled": true
   },
   "outputs": [],
   "source": [
    "from cleaning.ShowCleaning import ShowResults\n",
    "\n",
    "results = ShowResults(execution_model.params_labs_feats, list_features=['a','b'], list_labels=['id','k','dimension'])"
   ]
  },
  {
   "cell_type": "code",
   "execution_count": null,
   "metadata": {
    "scrolled": false
   },
   "outputs": [],
   "source": [
    "df_with_dists = results.select_prototypes(df_result)"
   ]
  },
  {
   "cell_type": "code",
   "execution_count": null,
   "metadata": {},
   "outputs": [],
   "source": [
    "execution_model.params_labs_feats"
   ]
  },
  {
   "cell_type": "code",
   "execution_count": null,
   "metadata": {
    "collapsed": true
   },
   "outputs": [],
   "source": [
    "pdf = df_result.select('prediction','centers','cov').distinct().toPandas()\n"
   ]
  },
  {
   "cell_type": "code",
   "execution_count": null,
   "metadata": {},
   "outputs": [],
   "source": [
    "for idx, pred in pdf.iterrows():\n",
    "    print(pred['prediction'], pred['cov'].toArray(), pred['centers'])"
   ]
  },
  {
   "cell_type": "code",
   "execution_count": null,
   "metadata": {
    "collapsed": true
   },
   "outputs": [],
   "source": [
    "dsm=pdf[pdf['prediction']==1]"
   ]
  },
  {
   "cell_type": "code",
   "execution_count": null,
   "metadata": {},
   "outputs": [],
   "source": [
    "dsm['cov'].tolist()"
   ]
  },
  {
   "cell_type": "code",
   "execution_count": null,
   "metadata": {
    "collapsed": true,
    "scrolled": true
   },
   "outputs": [],
   "source": [
    "from shared.create_dummy_data import create_normal_cluster_data_spark\n",
    "import pandas as pd"
   ]
  },
  {
   "cell_type": "code",
   "execution_count": null,
   "metadata": {
    "collapsed": true
   },
   "outputs": [],
   "source": []
  },
  {
   "cell_type": "code",
   "execution_count": null,
   "metadata": {
    "scrolled": false
   },
   "outputs": [],
   "source": [
    "plot_gaussians(df_result,['a','b'])"
   ]
  },
  {
   "cell_type": "code",
   "execution_count": null,
   "metadata": {
    "collapsed": true,
    "scrolled": false
   },
   "outputs": [],
   "source": []
  },
  {
   "cell_type": "markdown",
   "metadata": {},
   "source": [
    "# Waring experimental comming up!!!"
   ]
  },
  {
   "cell_type": "code",
   "execution_count": null,
   "metadata": {},
   "outputs": [],
   "source": [
    "sb.palplot(sb.hls_palette(len(pdf_mean), l=.3, s=.8))\n",
    "plt.show()\n",
    "\n",
    "sb.hls_palette(len(pdf_mean), l=.3, s=.8)"
   ]
  },
  {
   "cell_type": "code",
   "execution_count": null,
   "metadata": {
    "collapsed": true
   },
   "outputs": [],
   "source": [
    "ax = sb.jointplot(data=pd_results,x='x',y='y')\n",
    "plt.show()"
   ]
  },
  {
   "cell_type": "code",
   "execution_count": null,
   "metadata": {
    "collapsed": true
   },
   "outputs": [],
   "source": [
    "from shared import ComputeDistances\n",
    "from pyspark.sql import types as T\n",
    "from pyspark.ml.linalg import VectorUDT, Vectors\n",
    "\n",
    "udf_subtract = F.udf(lambda x, y: Vectors.dense(ComputeDistances.subtract_vectors(x,y)),VectorUDT())\n",
    "udf_picewise_dist = F.udf(lambda x,y: Vectors.dense(np.abs(x.array-y.array)),VectorUDT())\n",
    "\n",
    "df = runTest.withColumn(\"picewise_distance\",udf_picewise_dist(F.col(\"centers\"),F.col(\"features\")))"
   ]
  },
  {
   "cell_type": "code",
   "execution_count": null,
   "metadata": {
    "collapsed": true
   },
   "outputs": [],
   "source": [
    "df.show(5)"
   ]
  },
  {
   "cell_type": "code",
   "execution_count": null,
   "metadata": {
    "collapsed": true
   },
   "outputs": [],
   "source": [
    "testDf = (df\n",
    "          .select('prediction','picewise_distance')\n",
    "          .rdd\n",
    "          .reduceByKey(lambda x,y : x+y)\n",
    "          #.mapValues(lambda x: x.array.tolist())\n",
    "          .map(lambda x: itertools.chain.from_iterable(([x[0]],x[1])))\n",
    "          .map(lambda x: [float(i) for i in x])\n",
    "          .toDF([\"prediction\", 'picewise_distance_x','picewise_distance_y','picewise_distance_z'])\n",
    "         )\n",
    "\n",
    "testDf.take(5)"
   ]
  },
  {
   "cell_type": "code",
   "execution_count": null,
   "metadata": {
    "collapsed": true
   },
   "outputs": [],
   "source": [
    "pdf = testDf.toPandas()\n",
    "pdf['total'] = pdf['picewise_distance_x']+pdf['picewise_distance_y']\n",
    "\n",
    "\n",
    "sb.set_style(\"white\")\n",
    "sb.set_context({\"figure.figsize\": (24, 10)})\n",
    "\n",
    "sb.barplot(x='prediction',y=pdf['total'],data=pdf, color = \"blue\")\n",
    "bottom_plot = sb.barplot(x='prediction',y=pdf['picewise_distance_x'],data=pdf, color = \"red\")\n",
    "\n",
    "topbar = plt.Rectangle((0,0),1,1,fc=\"red\", edgecolor = 'none')\n",
    "bottombar = plt.Rectangle((0,0),1,1,fc='blue',  edgecolor = 'none')\n",
    "l = plt.legend([bottombar, topbar], ['Bottom Bar', 'Top Bar'], loc=1, ncol = 2, prop={'size':16})\n",
    "l.draw_frame(False)\n",
    "\n",
    "#Optional code - Make plot look nicer\n",
    "sb.despine(left=True)\n",
    "\n",
    "\n",
    "plt.xlabel('Clusters')\n",
    "plt.ylabel('Diff')\n",
    "plt.show()"
   ]
  },
  {
   "cell_type": "code",
   "execution_count": null,
   "metadata": {
    "collapsed": true,
    "scrolled": true
   },
   "outputs": [],
   "source": [
    "prediction_pdf = pdf['prediction']\n",
    "cumulative_pdf = pdf.loc[:, 'picewise_distance_x':'picewise_distance_z'].cumsum(axis=1)"
   ]
  }
 ],
 "metadata": {
  "kernelspec": {
   "display_name": "Python 3",
   "language": "python",
   "name": "python3"
  },
  "language_info": {
   "codemirror_mode": {
    "name": "ipython",
    "version": 3
   },
   "file_extension": ".py",
   "mimetype": "text/x-python",
   "name": "python",
   "nbconvert_exporter": "python",
   "pygments_lexer": "ipython3",
   "version": "3.5.2"
  }
 },
 "nbformat": 4,
 "nbformat_minor": 1
}
