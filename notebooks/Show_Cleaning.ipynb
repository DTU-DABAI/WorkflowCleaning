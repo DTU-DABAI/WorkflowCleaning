{
 "cells": [
  {
   "cell_type": "code",
   "execution_count": null,
   "metadata": {
    "collapsed": true
   },
   "outputs": [],
   "source": [
    "# Make sure that Python starts in Workflow-folder or else the modules will be screewed up!\n",
    "import sys\n",
    "import os\n",
    "import getpass\n",
    "import datetime\n",
    "\n",
    "# Something about adding a thing to Python path.\n",
    "module_path = os.path.abspath(os.path.join('..'))\n",
    "if module_path not in sys.path:\n",
    "    sys.path.append(module_path)\n",
    "\n",
    "# What's the time?\n",
    "today = datetime.date.today()\n",
    "\n",
    "# Identify user\n",
    "user = getpass.getuser()\n",
    "if user == \"sidsel\":\n",
    "    parquet_path = \"/home/sidsel/workspace/sparkdata/parquet\"\n",
    "elif user == \"svanhmic\":\n",
    "    parquet_path = \"/home/svanhmic/workspace/data/DABAI/sparkdata/parquet\"\n",
    "    \n",
    "# Start the logger.\n",
    "import logging\n",
    "logger_tester = logging.getLogger(__name__)\n",
    "logger_tester.setLevel(logging.INFO)\n",
    "logger_file_handler_param = logging.FileHandler('/tmp/workflow_test_cleaning_{!s}.log'.format(today.strftime('%d-%m-%Y')))\n",
    "logger_formatter_param = logging.Formatter('%(asctime)s;%(levelname)s;%(name)s;%(message)s')\n",
    "\n",
    "logger_tester.addHandler(logger_file_handler_param)\n",
    "logger_file_handler_param.setFormatter(logger_formatter_param)"
   ]
  },
  {
   "cell_type": "code",
   "execution_count": null,
   "metadata": {},
   "outputs": [],
   "source": [
    "from shared.Extension_to_timeit import pretty_time_result\n",
    "from shared.GeneralDataImport import GeneralDataImport\n",
    "\n",
    "dataIO = GeneralDataImport(parquet_path+\"/normal_cluster_n_1000.parquet\")"
   ]
  },
  {
   "cell_type": "code",
   "execution_count": null,
   "metadata": {},
   "outputs": [],
   "source": [
    "dataIO.select_columns()"
   ]
  },
  {
   "cell_type": "code",
   "execution_count": null,
   "metadata": {},
   "outputs": [],
   "source": [
    "df = dataIO.data_frame\n",
    "df.show(3)"
   ]
  },
  {
   "cell_type": "code",
   "execution_count": null,
   "metadata": {},
   "outputs": [],
   "source": [
    "#ax = sb.regplot('a','b',df.toPandas(),fit_reg=False)\n",
    "import seaborn as sb\n",
    "import pandas as pd\n",
    "import numpy as np\n",
    "import matplotlib.pyplot as plt\n",
    "ax = sb.lmplot('a',\n",
    "               'b',\n",
    "               dataIO.data_frame.toPandas(),\n",
    "               fit_reg=False,\n",
    "               size=8,\n",
    "               hue='k',\n",
    "               scatter_kws={'alpha':0.7,'s':60}\n",
    "              )\n",
    "plt.show()"
   ]
  },
  {
   "cell_type": "code",
   "execution_count": null,
   "metadata": {
    "collapsed": true,
    "scrolled": false
   },
   "outputs": [],
   "source": [
    "#import data!\n",
    "#from pyspark.sql import functions as F\n",
    "#from shared.create_dummy_data import create_dummy_data \n",
    "\n",
    "#test_timer = %timeit -o feature_data = create_dummy_data(1000, \"x y z\", \"label\", outlier_number=0.2, outlier_factor=20)\n",
    "#feature_data = feature_data.select([(10*F.col(i)).alias(i) for i in [\"x\",\"y\",\"z\"]])\n",
    "#feature_data.orderBy('x',ascending=[0,0,0]).show()"
   ]
  },
  {
   "cell_type": "code",
   "execution_count": null,
   "metadata": {
    "collapsed": true
   },
   "outputs": [],
   "source": [
    "# Select parameters\n",
    "from cleaning.CreateParametersCleaning import ParamsCleaning\n",
    "\n",
    "params = ParamsCleaning()\n",
    "parameters = params.select_parameters()"
   ]
  },
  {
   "cell_type": "code",
   "execution_count": null,
   "metadata": {
    "scrolled": false
   },
   "outputs": [],
   "source": [
    "parameters"
   ]
  },
  {
   "cell_type": "code",
   "execution_count": null,
   "metadata": {},
   "outputs": [],
   "source": [
    "#print(params.output_parameters(parameters))\n",
    "#test_params_1 = {'tol': 0.00001, 'k': 3, 'maxIter': 300, 'algorithm': 'GaussianMixture', 'seed': 1080866016001745000}\n",
    "test_params_1 = params.output_parameters(parameters)\n",
    "print(test_params_1)"
   ]
  },
  {
   "cell_type": "code",
   "execution_count": null,
   "metadata": {
    "collapsed": true
   },
   "outputs": [],
   "source": [
    "#print(sc.defaultMinPartitions)\n",
    "#print(sc.defaultParallelism)\n",
    "#conf = sc.getConf()\n",
    "#conf.getAll()"
   ]
  },
  {
   "cell_type": "code",
   "execution_count": null,
   "metadata": {
    "collapsed": true,
    "scrolled": false
   },
   "outputs": [],
   "source": [
    "from cleaning.ExecuteCleaningWorkflow import ExecuteWorkflow\n",
    "\n",
    "partitions = [80]\n",
    "sizes = [1000]\n",
    "features = list(map(lambda x: x.name,dataIO.list_features))\n",
    "labels = list(map(lambda x: x.name,dataIO.list_label))\n",
    "\n",
    "#print(features)\n",
    "#print(labels)\n",
    "\n",
    "execution_model = ExecuteWorkflow(\n",
    "    dict_params = test_params_1,\n",
    "    cols_features = features, \n",
    "    cols_labels = labels)\n",
    "\n",
    "    \n",
    "collection_of_data = [parquet_path+'/normal_cluster_n_{}.parquet'.format(i) for i in sizes]\n",
    "collection_of_model = []\n",
    "collection_of_transformed = []\n",
    "#collection_of_data\n",
    "#counts = [i.rdd.getNumPartitions() for i in collection_of_data]\n",
    "#counts\n",
    "#collection_of_data.append(df)"
   ]
  },
  {
   "cell_type": "code",
   "execution_count": null,
   "metadata": {},
   "outputs": [],
   "source": [
    "for jdx, partition_size in enumerate(partitions):\n",
    "    for idx, data in enumerate(collection_of_data):\n",
    "\n",
    "        df_data = (spark.\n",
    "                   read.\n",
    "                   parquet(data).\n",
    "                   repartition(partition_size)\n",
    "                  )\n",
    "        \n",
    "        iteration = idx+jdx*len(collection_of_data)\n",
    "        logger_tester.info(\n",
    "            'Iteration {} for data size {}'.\n",
    "            format(iteration, sizes[idx])\n",
    "        )\n",
    "\n",
    "        model_timer = %timeit -r1 -o collection_of_model.append(execution_model.execute_pipeline(df_data)) \n",
    "        transformer_timer = %timeit -o execution_model.apply_model(collection_of_model[iteration],df_data)\n",
    "        collection_of_model = collection_of_model[:iteration+1]\n",
    "        logger_tester.info(\n",
    "            'Iteration '+str(iteration)+' for training model : '+pretty_time_result(model_timer))\n",
    "        logger_tester.info(\n",
    "            'Iteration '+str(iteration)+' for transforming model : '+pretty_time_result(transformer_timer))\n",
    "        #merged_df.write.parquet('/home/svanhmic/workspace/data/DABAI/sparkdata/parquet/merged_df_parquet')"
   ]
  },
  {
   "cell_type": "code",
   "execution_count": null,
   "metadata": {},
   "outputs": [],
   "source": [
    "df_data = (spark.\n",
    "           read.\n",
    "           parquet(data).\n",
    "           repartition(partition_size)\n",
    "          )\n",
    "\n",
    "df_results = execution_model.apply_model(collection_of_model[iteration],df_data)\n",
    "df.show(3)"
   ]
  },
  {
   "cell_type": "code",
   "execution_count": null,
   "metadata": {
    "scrolled": true
   },
   "outputs": [],
   "source": [
    "from cleaning.ShowCleaning import ShowResults\n",
    "results = ShowResults(\n",
    "    execution_model.parameters,\n",
    "    list_features=execution_model.features,\n",
    "    list_labels=execution_model.labels)"
   ]
  },
  {
   "cell_type": "code",
   "execution_count": null,
   "metadata": {
    "scrolled": false
   },
   "outputs": [],
   "source": [
    "df_with_dists = results.select_prototypes(df_results)"
   ]
  },
  {
   "cell_type": "code",
   "execution_count": null,
   "metadata": {},
   "outputs": [],
   "source": [
    "from shared import Plot2DGraphs\n",
    "Plot2DGraphs.plot_gaussians(\n",
    "    df_results,\n",
    "    execution_model.features,\n",
    "    gaussian_std=1)"
   ]
  },
  {
   "cell_type": "code",
   "execution_count": null,
   "metadata": {},
   "outputs": [],
   "source": [
    "ax = sb.lmplot('a',\n",
    "               'b',\n",
    "               dataIO.data_frame.toPandas(),\n",
    "               fit_reg=False,\n",
    "               size=8,\n",
    "               hue='k',\n",
    "               scatter_kws={'alpha':0.7,'s':60}\n",
    "              )\n",
    "plt.show()"
   ]
  },
  {
   "cell_type": "code",
   "execution_count": null,
   "metadata": {
    "collapsed": true
   },
   "outputs": [],
   "source": []
  }
 ],
 "metadata": {
  "kernelspec": {
   "display_name": "Python 3",
   "language": "python",
   "name": "python3"
  },
  "language_info": {
   "codemirror_mode": {
    "name": "ipython",
    "version": 3
   },
   "file_extension": ".py",
   "mimetype": "text/x-python",
   "name": "python",
   "nbconvert_exporter": "python",
   "pygments_lexer": "ipython3",
   "version": "3.5.2"
  }
 },
 "nbformat": 4,
 "nbformat_minor": 1
}
