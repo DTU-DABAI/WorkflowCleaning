{
 "cells": [
  {
   "cell_type": "code",
   "execution_count": 1,
   "metadata": {
    "collapsed": true
   },
   "outputs": [],
   "source": [
    "import sys, os, getpass"
   ]
  },
  {
   "cell_type": "code",
   "execution_count": 2,
   "metadata": {},
   "outputs": [
    {
     "name": "stdout",
     "output_type": "stream",
     "text": [
      "/home/svanhmic/workspace/DABAI/Workflows\n"
     ]
    }
   ],
   "source": [
    "module_path = os.path.abspath(os.path.join('..'))\n",
    "if module_path not in sys.path:\n",
    "    sys.path.append(module_path)\n",
    "print(module_path)\n",
    "\n",
    "user = getpass.getuser()\n",
    "\n",
    "if user == \"sidsel\":\n",
    "    parquet_path = \"/home/sidsel/workspace/sparkdata/parquet\"\n",
    "elif user == \"svanhmic\":\n",
    "    parquet_path = \"/home/svanhmic/workspace/data/DABAI/sparkdata/parquet\""
   ]
  },
  {
   "cell_type": "code",
   "execution_count": 3,
   "metadata": {},
   "outputs": [],
   "source": [
    "from sample.DataIO import DataIO\n",
    "data = DataIO(sc,feature_path=parquet_path+\"/featureDataCvr.parquet\",company_path=parquet_path+\"/companyCvrData\")\n",
    "feature_data = data.mergeCompanyFeatureData()"
   ]
  },
  {
   "cell_type": "code",
   "execution_count": 5,
   "metadata": {
    "collapsed": true,
    "scrolled": false
   },
   "outputs": [],
   "source": [
    "#import data!\n",
    " \n",
    "#from shared.create_dummy_data import DummyData \n",
    "\n",
    "#dummy_data = DummyData(sc,1000)\n",
    "#dummy_data.create_outliers(\"x\",10)\n",
    "#dummy_data.create_outliers(\"y\",10)\n",
    "#dummy_data.show()"
   ]
  },
  {
   "cell_type": "code",
   "execution_count": 6,
   "metadata": {
    "collapsed": true
   },
   "outputs": [],
   "source": [
    "#Select parameters\n",
    "from sample.CreateParameters import CreateParameters\n",
    "\n",
    "params = CreateParameters(feature_data.columns)"
   ]
  },
  {
   "cell_type": "code",
   "execution_count": 7,
   "metadata": {
    "scrolled": false
   },
   "outputs": [
    {
     "data": {
      "application/vnd.jupyter.widget-view+json": {
       "model_id": "f3a13fcfca6840e99c7b203142bb1594"
      }
     },
     "metadata": {},
     "output_type": "display_data"
    },
    {
     "data": {
      "application/vnd.jupyter.widget-view+json": {
       "model_id": "7232a374c1544892950f452ad0f99c5a"
      }
     },
     "metadata": {},
     "output_type": "display_data"
    }
   ],
   "source": [
    "params.select_params()"
   ]
  },
  {
   "cell_type": "code",
   "execution_count": 13,
   "metadata": {},
   "outputs": [
    {
     "name": "stdout",
     "output_type": "stream",
     "text": [
      "{'initialstep': 10, 'optimizer': None, 'seed': 42, 'mindivisbleClusterSize': 1.0, 'model': 'KMeans', 'initialmode': 'random', 'prediction': 'prediction', 'iterations': 10, 'probability': 'cvrNummer', 'features': ('AarsVaerk_1', 'AarsVaerk_2', 'AarsVaerk_3'), 'standardize': True, 'clusters': 10, 'tolerance': 0.0001, 'label': ('cvrNummer',)}\n"
     ]
    }
   ],
   "source": [
    "print(params.export_values())\n",
    "dicKM = {'initialstep': 10, 'optimizer': None, 'seed': 42, 'mindivisbleClusterSize': 1.0, 'model': 'KMeans', 'initialmode': 'random', 'prediction': 'prediction', 'iterations': 10, 'probability': None, 'features': ('x','y','z'), 'label':('label'), 'standardize': True, 'clusters': 2, 'tolerance': 0.0001}#{'initialstep': 10, 'optimizer': None, 'seed': 42, 'mindivisbleClusterSize': 1.0, 'model': 'KMeans', 'initialmode': 'random', 'prediction': 'prediction', 'iterations': 10, 'probability': None, 'features': ('AarsVaerk_1', 'AarsVaerk_2', 'AarsVaerk_3', 'AarsVaerk_4'), 'label':(\"cvrNummer\",\"navn\"), 'standardize': True, 'clusters': 2, 'tolerance': 0.0001}\n",
    "dicBKM = {'initialstep': 10, 'optimizer': None, 'seed': 42, 'mindivisbleClusterSize': 1.0, 'model': 'BisectingKMeans', 'initialmode': 'random', 'prediction': 'prediction', 'iterations': 10, 'probability': None, 'features': ('x','y','z'), 'label':('label'), 'standardize': True, 'clusters': 2, 'tolerance': 0.0001}#{'initialstep': 10, 'optimizer': None, 'seed': 42, 'mindivisbleClusterSize': 1.0, 'model': 'BisectingKMeans', 'initialmode': 'random', 'prediction': 'prediction', 'iterations': 10, 'probability': None, 'features': ('AarsVaerk_1', 'AarsVaerk_2', 'AarsVaerk_3', 'AarsVaerk_4'), 'label':(\"cvrNummer\",\"navn\"), 'standardize': False, 'clusters': 2, 'tolerance': 0.0001}\n",
    "\n",
    "# NOTE!!! Data is note standardized due to random variable is between 0-1 and outliers are beyond\n",
    "dicGMM = {'initialstep': 10, 'optimizer': None, 'seed': 42, 'mindivisbleClusterSize': 1.0, 'model': 'GaussianMixture', 'initialmode': 'random', 'prediction': 'prediction', 'iterations': 10, 'probability': None, 'features': ('x','y','z'), 'label':('label'), 'standardize': False, 'clusters': 10, 'tolerance': 0.0001}#{'initialstep': 10, 'optimizer': None, 'seed': 42, 'mindivisbleClusterSize': 1.0, 'model': 'GaussianMixture', 'initialmode': 'random', 'prediction': 'prediction', 'iterations': 10, 'probability': None, 'features': ('AarsVaerk_1', 'AarsVaerk_2', 'AarsVaerk_3', 'AarsVaerk_4'), 'label':(\"cvrNummer\",\"navn\"), 'standardize': True, 'clusters': 10, 'tolerance': 0.0001} #\n",
    "#{'features': ('AarsVaerk_1', 'AarsVaerk_2', 'AarsVaerk_3', 'AarsVaerk_4'), 'initialstep': 10, 'standardize': True, 'clusters': 3, 'model': 'KMeans', 'initialmode': 'random', 'prediction': 'Prediction', 'iterations': 10}"
   ]
  },
  {
   "cell_type": "code",
   "execution_count": 14,
   "metadata": {
    "collapsed": true
   },
   "outputs": [],
   "source": [
    "from sample.ExecuteWorkflow import ExecuteWorkflow\n",
    "from random import random\n",
    "\n",
    "import numpy as np\n",
    "\n",
    "execution_model = ExecuteWorkflow()\n",
    "#print(execution_model.params)\n",
    "execution_model.params = params.export_values()"
   ]
  },
  {
   "cell_type": "code",
   "execution_count": 15,
   "metadata": {
    "collapsed": true
   },
   "outputs": [],
   "source": [
    "runTest = execution_model.run(data=feature_data)"
   ]
  },
  {
   "cell_type": "code",
   "execution_count": 16,
   "metadata": {
    "scrolled": false
   },
   "outputs": [
    {
     "data": {
      "image/png": "[encoded data removed]",
      "text/plain": [
       "<matplotlib.figure.Figure at 0x7f0c0c0329b0>"
      ]
     },
     "metadata": {},
     "output_type": "display_data"
    },
    {
     "name": "stdout",
     "output_type": "stream",
     "text": [
      "['cvrNummer', 'AarsVaerk_1', 'AarsVaerk_2', 'AarsVaerk_3', 'distances', 'outliers']\n",
      "+---------+-----------+-----------+-----------+------------------+--------+\n",
      "|cvrNummer|AarsVaerk_1|AarsVaerk_2|AarsVaerk_3|         distances|outliers|\n",
      "+---------+-----------+-----------+-----------+------------------+--------+\n",
      "| 25814363|     1000.0|     1000.0|     1000.0| 53.26355741274298|       1|\n",
      "| 19687236|     1000.0|      500.0|      200.0|  44.1543484274127|       1|\n",
      "| 19562786|      500.0|      500.0|     1000.0| 39.10952281668718|       1|\n",
      "| 83742313|      500.0|      500.0|      500.0|19.587111150296558|       1|\n",
      "| 26121264|     1000.0|     1000.0|        0.0|  64.4637591261001|       1|\n",
      "| 15771100|     1000.0|      500.0|      500.0| 30.06940448477987|       1|\n",
      "| 19056171|      500.0|      500.0|      500.0|19.587111150296558|       1|\n",
      "| 16406899|      500.0|      200.0|      500.0| 40.18682410118911|       1|\n",
      "| 26123445|      500.0|      500.0|      500.0|19.587111150296558|       1|\n",
      "| 19033449|      500.0|      500.0|      500.0|19.587111150296558|       1|\n",
      "| 13496188|      200.0|      500.0|      500.0|40.304443227244285|       1|\n",
      "| 23370212|      500.0|      500.0|      200.0| 37.80333744782508|       1|\n",
      "| 27509185|      500.0|      500.0|      500.0|19.587111150296558|       1|\n",
      "| 36887613|      500.0|      500.0|      200.0| 37.80333744782508|       1|\n",
      "| 65305216|     1000.0|     1000.0|     1000.0| 53.26355741274298|       1|\n",
      "| 20161612|     1000.0|     1000.0|     1000.0| 53.26355741274298|       1|\n",
      "| 18537176|     1000.0|     1000.0|     1000.0| 53.26355741274298|       1|\n",
      "| 26390206|      200.0|      500.0|      500.0|40.304443227244285|       1|\n",
      "| 26390222|      500.0|      500.0|      500.0|19.587111150296558|       1|\n",
      "| 14769005|     1000.0|     1000.0|     1000.0| 53.26355741274298|       1|\n",
      "+---------+-----------+-----------+-----------+------------------+--------+\n",
      "only showing top 20 rows\n",
      "\n"
     ]
    },
    {
     "data": {
      "text/html": [
       "<div>\n",
       "<table border=\"1\" class=\"dataframe\">\n",
       "  <thead>\n",
       "    <tr style=\"text-align: right;\">\n",
       "      <th></th>\n",
       "      <th>cvrNummer</th>\n",
       "      <th>AarsVaerk_1</th>\n",
       "      <th>AarsVaerk_2</th>\n",
       "      <th>AarsVaerk_3</th>\n",
       "      <th>distances</th>\n",
       "      <th>outliers</th>\n",
       "    </tr>\n",
       "  </thead>\n",
       "  <tbody>\n",
       "    <tr>\n",
       "      <th>0</th>\n",
       "      <td>26121264</td>\n",
       "      <td>1000.0</td>\n",
       "      <td>1000.0</td>\n",
       "      <td>0.0</td>\n",
       "      <td>64.463759</td>\n",
       "      <td>1</td>\n",
       "    </tr>\n",
       "    <tr>\n",
       "      <th>1</th>\n",
       "      <td>25814363</td>\n",
       "      <td>1000.0</td>\n",
       "      <td>1000.0</td>\n",
       "      <td>1000.0</td>\n",
       "      <td>53.263557</td>\n",
       "      <td>1</td>\n",
       "    </tr>\n",
       "    <tr>\n",
       "      <th>2</th>\n",
       "      <td>65305216</td>\n",
       "      <td>1000.0</td>\n",
       "      <td>1000.0</td>\n",
       "      <td>1000.0</td>\n",
       "      <td>53.263557</td>\n",
       "      <td>1</td>\n",
       "    </tr>\n",
       "    <tr>\n",
       "      <th>3</th>\n",
       "      <td>20161612</td>\n",
       "      <td>1000.0</td>\n",
       "      <td>1000.0</td>\n",
       "      <td>1000.0</td>\n",
       "      <td>53.263557</td>\n",
       "      <td>1</td>\n",
       "    </tr>\n",
       "    <tr>\n",
       "      <th>4</th>\n",
       "      <td>18537176</td>\n",
       "      <td>1000.0</td>\n",
       "      <td>1000.0</td>\n",
       "      <td>1000.0</td>\n",
       "      <td>53.263557</td>\n",
       "      <td>1</td>\n",
       "    </tr>\n",
       "    <tr>\n",
       "      <th>5</th>\n",
       "      <td>14769005</td>\n",
       "      <td>1000.0</td>\n",
       "      <td>1000.0</td>\n",
       "      <td>1000.0</td>\n",
       "      <td>53.263557</td>\n",
       "      <td>1</td>\n",
       "    </tr>\n",
       "    <tr>\n",
       "      <th>6</th>\n",
       "      <td>30345363</td>\n",
       "      <td>1000.0</td>\n",
       "      <td>1000.0</td>\n",
       "      <td>1000.0</td>\n",
       "      <td>53.263557</td>\n",
       "      <td>1</td>\n",
       "    </tr>\n",
       "    <tr>\n",
       "      <th>7</th>\n",
       "      <td>19687236</td>\n",
       "      <td>1000.0</td>\n",
       "      <td>500.0</td>\n",
       "      <td>200.0</td>\n",
       "      <td>44.154348</td>\n",
       "      <td>1</td>\n",
       "    </tr>\n",
       "    <tr>\n",
       "      <th>8</th>\n",
       "      <td>13496188</td>\n",
       "      <td>200.0</td>\n",
       "      <td>500.0</td>\n",
       "      <td>500.0</td>\n",
       "      <td>40.304443</td>\n",
       "      <td>1</td>\n",
       "    </tr>\n",
       "    <tr>\n",
       "      <th>9</th>\n",
       "      <td>26390206</td>\n",
       "      <td>200.0</td>\n",
       "      <td>500.0</td>\n",
       "      <td>500.0</td>\n",
       "      <td>40.304443</td>\n",
       "      <td>1</td>\n",
       "    </tr>\n",
       "    <tr>\n",
       "      <th>10</th>\n",
       "      <td>16406899</td>\n",
       "      <td>500.0</td>\n",
       "      <td>200.0</td>\n",
       "      <td>500.0</td>\n",
       "      <td>40.186824</td>\n",
       "      <td>1</td>\n",
       "    </tr>\n",
       "    <tr>\n",
       "      <th>11</th>\n",
       "      <td>19562786</td>\n",
       "      <td>500.0</td>\n",
       "      <td>500.0</td>\n",
       "      <td>1000.0</td>\n",
       "      <td>39.109523</td>\n",
       "      <td>1</td>\n",
       "    </tr>\n",
       "    <tr>\n",
       "      <th>12</th>\n",
       "      <td>23370212</td>\n",
       "      <td>500.0</td>\n",
       "      <td>500.0</td>\n",
       "      <td>200.0</td>\n",
       "      <td>37.803337</td>\n",
       "      <td>1</td>\n",
       "    </tr>\n",
       "    <tr>\n",
       "      <th>13</th>\n",
       "      <td>36887613</td>\n",
       "      <td>500.0</td>\n",
       "      <td>500.0</td>\n",
       "      <td>200.0</td>\n",
       "      <td>37.803337</td>\n",
       "      <td>1</td>\n",
       "    </tr>\n",
       "    <tr>\n",
       "      <th>14</th>\n",
       "      <td>15771100</td>\n",
       "      <td>1000.0</td>\n",
       "      <td>500.0</td>\n",
       "      <td>500.0</td>\n",
       "      <td>30.069404</td>\n",
       "      <td>1</td>\n",
       "    </tr>\n",
       "    <tr>\n",
       "      <th>15</th>\n",
       "      <td>83742313</td>\n",
       "      <td>500.0</td>\n",
       "      <td>500.0</td>\n",
       "      <td>500.0</td>\n",
       "      <td>19.587111</td>\n",
       "      <td>1</td>\n",
       "    </tr>\n",
       "    <tr>\n",
       "      <th>16</th>\n",
       "      <td>19056171</td>\n",
       "      <td>500.0</td>\n",
       "      <td>500.0</td>\n",
       "      <td>500.0</td>\n",
       "      <td>19.587111</td>\n",
       "      <td>1</td>\n",
       "    </tr>\n",
       "    <tr>\n",
       "      <th>17</th>\n",
       "      <td>26123445</td>\n",
       "      <td>500.0</td>\n",
       "      <td>500.0</td>\n",
       "      <td>500.0</td>\n",
       "      <td>19.587111</td>\n",
       "      <td>1</td>\n",
       "    </tr>\n",
       "    <tr>\n",
       "      <th>18</th>\n",
       "      <td>19033449</td>\n",
       "      <td>500.0</td>\n",
       "      <td>500.0</td>\n",
       "      <td>500.0</td>\n",
       "      <td>19.587111</td>\n",
       "      <td>1</td>\n",
       "    </tr>\n",
       "    <tr>\n",
       "      <th>19</th>\n",
       "      <td>27509185</td>\n",
       "      <td>500.0</td>\n",
       "      <td>500.0</td>\n",
       "      <td>500.0</td>\n",
       "      <td>19.587111</td>\n",
       "      <td>1</td>\n",
       "    </tr>\n",
       "    <tr>\n",
       "      <th>20</th>\n",
       "      <td>26390222</td>\n",
       "      <td>500.0</td>\n",
       "      <td>500.0</td>\n",
       "      <td>500.0</td>\n",
       "      <td>19.587111</td>\n",
       "      <td>1</td>\n",
       "    </tr>\n",
       "    <tr>\n",
       "      <th>21</th>\n",
       "      <td>10073022</td>\n",
       "      <td>500.0</td>\n",
       "      <td>500.0</td>\n",
       "      <td>500.0</td>\n",
       "      <td>19.587111</td>\n",
       "      <td>1</td>\n",
       "    </tr>\n",
       "    <tr>\n",
       "      <th>22</th>\n",
       "      <td>10724236</td>\n",
       "      <td>500.0</td>\n",
       "      <td>500.0</td>\n",
       "      <td>500.0</td>\n",
       "      <td>19.587111</td>\n",
       "      <td>1</td>\n",
       "    </tr>\n",
       "  </tbody>\n",
       "</table>\n",
       "</div>"
      ],
      "text/plain": [
       "    cvrNummer  AarsVaerk_1  AarsVaerk_2  AarsVaerk_3  distances  outliers\n",
       "0    26121264       1000.0       1000.0          0.0  64.463759         1\n",
       "1    25814363       1000.0       1000.0       1000.0  53.263557         1\n",
       "2    65305216       1000.0       1000.0       1000.0  53.263557         1\n",
       "3    20161612       1000.0       1000.0       1000.0  53.263557         1\n",
       "4    18537176       1000.0       1000.0       1000.0  53.263557         1\n",
       "5    14769005       1000.0       1000.0       1000.0  53.263557         1\n",
       "6    30345363       1000.0       1000.0       1000.0  53.263557         1\n",
       "7    19687236       1000.0        500.0        200.0  44.154348         1\n",
       "8    13496188        200.0        500.0        500.0  40.304443         1\n",
       "9    26390206        200.0        500.0        500.0  40.304443         1\n",
       "10   16406899        500.0        200.0        500.0  40.186824         1\n",
       "11   19562786        500.0        500.0       1000.0  39.109523         1\n",
       "12   23370212        500.0        500.0        200.0  37.803337         1\n",
       "13   36887613        500.0        500.0        200.0  37.803337         1\n",
       "14   15771100       1000.0        500.0        500.0  30.069404         1\n",
       "15   83742313        500.0        500.0        500.0  19.587111         1\n",
       "16   19056171        500.0        500.0        500.0  19.587111         1\n",
       "17   26123445        500.0        500.0        500.0  19.587111         1\n",
       "18   19033449        500.0        500.0        500.0  19.587111         1\n",
       "19   27509185        500.0        500.0        500.0  19.587111         1\n",
       "20   26390222        500.0        500.0        500.0  19.587111         1\n",
       "21   10073022        500.0        500.0        500.0  19.587111         1\n",
       "22   10724236        500.0        500.0        500.0  19.587111         1"
      ]
     },
     "metadata": {},
     "output_type": "display_data"
    }
   ],
   "source": [
    "from sample.ShowKmeans import ShowResults\n",
    "results = ShowResults(execution_model.params)\n",
    "results.select_prototypes(runTest)"
   ]
  },
  {
   "cell_type": "code",
   "execution_count": null,
   "metadata": {
    "collapsed": true,
    "scrolled": false
   },
   "outputs": [],
   "source": []
  },
  {
   "cell_type": "code",
   "execution_count": 12,
   "metadata": {},
   "outputs": [
    {
     "data": {
      "text/plain": [
       "['cvr', 'dhcp', 'ar1', 'ar2', 'dist', 'outliers']"
      ]
     },
     "execution_count": 12,
     "metadata": {},
     "output_type": "execute_result"
    }
   ],
   "source": []
  },
  {
   "cell_type": "code",
   "execution_count": 19,
   "metadata": {},
   "outputs": [
    {
     "name": "stdout",
     "output_type": "stream",
     "text": [
      "+---------+--------------------+-----+-----------+-----------+-----------+-----------+-----------+-----------+-----------+-----------+-----------+------------+------------+------------+------------+------------+------------+--------+--------+--------+--------+--------+--------+--------+--------+--------+---------+---------+---------+---------+---------+---------+-----------------+-----------------+------------------+------------------+------+------+------+------+------+------+----------------+---------------+----------------+-------------------+-------------------+--------------------+----------+--------------------+\n",
      "|cvrNummer|              status|label|AarsVaerk_1|AarsVaerk_2|AarsVaerk_3|AarsVaerk_4|AarsVaerk_5|AarsVaerk_6|AarsVaerk_7|AarsVaerk_8|AarsVaerk_9|AarsVaerk_10|AarsVaerk_11|AarsVaerk_12|AarsVaerk_13|AarsVaerk_14|AarsVaerk_15|medArb_1|medArb_2|medArb_3|medArb_4|medArb_5|medArb_6|medArb_7|medArb_8|medArb_9|medArb_10|medArb_11|medArb_12|medArb_13|medArb_14|medArb_15|      avgVarighed|totalAabneEnheder|totalLukketEnheder|            rank_1|rank_2|rank_3|rank_4|rank_5|rank_6|rank_7|reklamebeskyttet|kortBeskrivelse|            navn|           features|    casted_features|     scaled_features|prediction|             centers|\n",
      "+---------+--------------------+-----+-----------+-----------+-----------+-----------+-----------+-----------+-----------+-----------+-----------+------------+------------+------------+------------+------------+------------+--------+--------+--------+--------+--------+--------+--------+--------+--------+---------+---------+---------+---------+---------+---------+-----------------+-----------------+------------------+------------------+------+------+------+------+------+------+----------------+---------------+----------------+-------------------+-------------------+--------------------+----------+--------------------+\n",
      "| 26390222|[OPLØST EFTER FUS...|  0.0|      500.0|      500.0|      500.0|        0.0|        0.0|        0.0|        0.0|        0.0|        0.0|         0.0|         0.0|         0.0|         0.0|         0.0|         0.0|  1000.0|  1000.0|  1000.0|     0.0|     0.0|     0.0|     0.0|     0.0|     0.0|      0.0|      0.0|      0.0|      0.0|      0.0|      0.0|786.7142857142857|                7|                 0|28214.285714285714|   0.0|   0.0|   0.0|   0.0|   0.0|   0.0|           false|            APS|KBIL 17 NR. 1371|[500.0,500.0,500.0]|[500.0,500.0,500.0]|[39.9928316949241...|         3|[53.6333571465060...|\n",
      "+---------+--------------------+-----+-----------+-----------+-----------+-----------+-----------+-----------+-----------+-----------+-----------+------------+------------+------------+------------+------------+------------+--------+--------+--------+--------+--------+--------+--------+--------+--------+---------+---------+---------+---------+---------+---------+-----------------+-----------------+------------------+------------------+------+------+------+------+------+------+----------------+---------------+----------------+-------------------+-------------------+--------------------+----------+--------------------+\n",
      "\n"
     ]
    }
   ],
   "source": [
    "runTest.filter(runTest.cvrNummer == 26390222).show()"
   ]
  },
  {
   "cell_type": "code",
   "execution_count": null,
   "metadata": {
    "collapsed": true
   },
   "outputs": [],
   "source": []
  },
  {
   "cell_type": "code",
   "execution_count": null,
   "metadata": {
    "collapsed": true
   },
   "outputs": [],
   "source": []
  },
  {
   "cell_type": "code",
   "execution_count": null,
   "metadata": {
    "collapsed": true,
    "scrolled": false
   },
   "outputs": [],
   "source": []
  },
  {
   "cell_type": "code",
   "execution_count": null,
   "metadata": {
    "collapsed": true,
    "scrolled": false
   },
   "outputs": [],
   "source": []
  },
  {
   "cell_type": "code",
   "execution_count": null,
   "metadata": {
    "collapsed": true
   },
   "outputs": [],
   "source": []
  },
  {
   "cell_type": "code",
   "execution_count": null,
   "metadata": {
    "collapsed": true
   },
   "outputs": [],
   "source": []
  }
 ],
 "metadata": {
  "kernelspec": {
   "display_name": "Python 3",
   "language": "python",
   "name": "python3"
  },
  "language_info": {
   "codemirror_mode": {
    "name": "ipython",
    "version": 3
   },
   "file_extension": ".py",
   "mimetype": "text/x-python",
   "name": "python",
   "nbconvert_exporter": "python",
   "pygments_lexer": "ipython3",
   "version": "3.5.2"
  }
 },
 "nbformat": 4,
 "nbformat_minor": 1
}
