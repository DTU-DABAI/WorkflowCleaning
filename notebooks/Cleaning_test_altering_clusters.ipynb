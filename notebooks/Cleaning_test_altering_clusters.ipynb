{
 "cells": [
  {
   "cell_type": "code",
   "execution_count": null,
   "metadata": {
    "collapsed": true
   },
   "outputs": [],
   "source": [
    "# Here comes the Spark includes\n",
    "from pyspark.sql import functions as F\n",
    "from pyspark.sql import types as T\n",
    "from pyspark.ml import clustering\n",
    "from pyspark.ml import Pipeline\n",
    "from pyspark.ml import feature\n",
    "from pyspark.ml import linalg\n",
    "from pyspark.ml import tuning\n",
    "\n",
    "# Here comes the scipy includes\n",
    "import numpy as np\n",
    "import pandas as pd\n",
    "import matplotlib.pyplot as plt\n",
    "import seaborn as sb\n",
    "\n",
    "# Python imports\n",
    "import sys\n",
    "import os\n",
    "\n",
    "# Adding workspace to the pythonpath\n",
    "module_path = os.path.abspath(os.path.join('..'))\n",
    "if module_path not in sys.path:\n",
    "    sys.path.append(module_path)"
   ]
  },
  {
   "cell_type": "code",
   "execution_count": null,
   "metadata": {
    "collapsed": true
   },
   "outputs": [],
   "source": [
    "# Import the data...\n",
    "file_loc = '/home/svanhmic/workspace/data/DABAI/sparkdata/parquet'\n",
    "df = spark.read.parquet(\n",
    "    file_loc+'/normal_cluster_data.parquet')"
   ]
  },
  {
   "cell_type": "code",
   "execution_count": null,
   "metadata": {},
   "outputs": [],
   "source": [
    "# Show the data\n",
    "df.show(3)"
   ]
  },
  {
   "cell_type": "code",
   "execution_count": null,
   "metadata": {
    "collapsed": true
   },
   "outputs": [],
   "source": [
    "# Create the pipeline as may times before\n",
    "vector_assembler = feature.VectorAssembler(\n",
    "    inputCols=['a','b'],\n",
    "    outputCol='features')\n",
    "\n",
    "gaussian_mm = clustering.GaussianMixture()\n",
    "\n",
    "gaussian_pipeline = Pipeline(stages=[vector_assembler,gaussian_mm])"
   ]
  },
  {
   "cell_type": "code",
   "execution_count": null,
   "metadata": {
    "collapsed": true
   },
   "outputs": [],
   "source": [
    "gaussian_parameter_map = (tuning.ParamGridBuilder()\n",
    "                          .baseOn({gaussian_mm.featuresCol:vector_assembler.getOutputCol()})\n",
    "                          .addGrid(gaussian_mm.maxIter,[50,100,200])\n",
    "                          .addGrid(gaussian_mm.k,[2,3,4,5])\n",
    "                          .build()\n",
    "                         )\n",
    "#gaussian_parameter_map"
   ]
  },
  {
   "cell_type": "code",
   "execution_count": null,
   "metadata": {
    "collapsed": true
   },
   "outputs": [],
   "source": [
    "models = gaussian_pipeline.fit(df,params=gaussian_parameter_map)"
   ]
  },
  {
   "cell_type": "code",
   "execution_count": null,
   "metadata": {
    "collapsed": true
   },
   "outputs": [],
   "source": [
    "def convert_covariance_to_pandas(model):\n",
    "    \n",
    "    pdf = (model.\n",
    "           stages[-1].\n",
    "           gaussiansDF.\n",
    "           toPandas())\n",
    "    \n",
    "    pdf['prediction'] = pd.Series(\n",
    "        pdf.index,\n",
    "        index=pdf.index)\n",
    "    \n",
    "    pdf['centers'] = pdf['mean']\n",
    "    \n",
    "    return pdf"
   ]
  },
  {
   "cell_type": "code",
   "execution_count": null,
   "metadata": {
    "collapsed": true
   },
   "outputs": [],
   "source": [
    "list_gaussians_df = list(map(lambda x: convert_covariance_to_pandas(x), models))\n",
    "list_transformed_df = [i.transform(df).toPandas() for i in models]"
   ]
  },
  {
   "cell_type": "code",
   "execution_count": null,
   "metadata": {
    "collapsed": true
   },
   "outputs": [],
   "source": [
    "# local import\n",
    "from shared import Plot2DGraphs"
   ]
  },
  {
   "cell_type": "code",
   "execution_count": null,
   "metadata": {},
   "outputs": [],
   "source": [
    "for transformed, gaussians in zip(list_transformed_df,list_gaussians_df):\n",
    "    Plot2DGraphs.plot_gaussians(transformed,featuresCol=['a','b'],pandasMeanCov=gaussians)"
   ]
  }
 ],
 "metadata": {
  "kernelspec": {
   "display_name": "Python 3",
   "language": "python",
   "name": "python3"
  },
  "language_info": {
   "codemirror_mode": {
    "name": "ipython",
    "version": 3
   },
   "file_extension": ".py",
   "mimetype": "text/x-python",
   "name": "python",
   "nbconvert_exporter": "python",
   "pygments_lexer": "ipython3",
   "version": "3.5.2"
  }
 },
 "nbformat": 4,
 "nbformat_minor": 2
}
