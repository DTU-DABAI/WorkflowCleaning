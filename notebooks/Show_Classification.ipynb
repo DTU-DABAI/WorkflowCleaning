{
 "cells": [
  {
   "cell_type": "markdown",
   "metadata": {},
   "source": [
    "<img src=\"https://upload.wikimedia.org/wikipedia/en/a/a1/Visma_logo.jpg\"\n",
    "     align=\"right\"\n",
    "     width=\"30%\"\n",
    "     alt=\"Visma logo\">\n",
    "\n",
    "Classification Workflow \n",
    "=============\n",
    "\n",
    "<img src=\"http://www.rm.dk/siteassets/regional-udvikling/digitalisering/dabai/dabai-logo.png\"\n",
    "     align=\"right\"\n",
    "     width=\"20%\"\n",
    "     alt=\"DABAI logo\">\n",
    "     \n",
    "The following notebook shows how the workflow for classification should be executed."
   ]
  },
  {
   "cell_type": "code",
   "execution_count": 1,
   "metadata": {
    "collapsed": true
   },
   "outputs": [],
   "source": [
    "%run -i initilization.py"
   ]
  },
  {
   "cell_type": "code",
   "execution_count": 2,
   "metadata": {
    "collapsed": true
   },
   "outputs": [],
   "source": [
    "from classification.ExecuteClassificationWorkflow import ExecuteWorkflowClassification\n",
    "import classification.CreateParametersClasification as create_params\n",
    "from shared import GeneralDataImport\n",
    "from IPython.display import display"
   ]
  },
  {
   "cell_type": "markdown",
   "metadata": {},
   "source": [
    "### Import data and select columns for id and features\n",
    "__Rembember to click Import file!__"
   ]
  },
  {
   "cell_type": "code",
   "execution_count": 3,
   "metadata": {},
   "outputs": [
    {
     "data": {
      "application/vnd.jupyter.widget-view+json": {
       "model_id": "76499a3b29394aeb98f85958625359a6"
      }
     },
     "metadata": {},
     "output_type": "display_data"
    }
   ],
   "source": [
    "data_import = GeneralDataImport.GeneralDataImport(parquet_path+'/merged_cvr.parquet')"
   ]
  },
  {
   "cell_type": "code",
   "execution_count": 4,
   "metadata": {},
   "outputs": [
    {
     "data": {
      "application/vnd.jupyter.widget-view+json": {
       "model_id": "b36bcd5d6fa842bbac53547efdb59a68"
      }
     },
     "metadata": {},
     "output_type": "display_data"
    }
   ],
   "source": [
    "data_import.select_columns()"
   ]
  },
  {
   "cell_type": "markdown",
   "metadata": {},
   "source": [
    "###  Lets divide the data into a training- and test-set. \n",
    "\n",
    "We'll use the training-set for a K-fold-cross validation later on. \n",
    "__Note:__ our dataset has 3 lables: 0, 1 and 2. We'll also filter out label 2, since it only shows companies with funny status'."
   ]
  },
  {
   "cell_type": "code",
   "execution_count": 12,
   "metadata": {},
   "outputs": [
    {
     "name": "stdout",
     "output_type": "stream",
     "text": [
      "Number of training points are 108490\n",
      "Number of test points are 54117\n"
     ]
    },
    {
     "data": {
      "text/html": [
       "<div>\n",
       "<table border=\"1\" class=\"dataframe\">\n",
       "  <thead>\n",
       "    <tr style=\"text-align: right;\">\n",
       "      <th></th>\n",
       "      <th>cvr</th>\n",
       "      <th>status</th>\n",
       "      <th>kortBeskrivelse</th>\n",
       "      <th>navn</th>\n",
       "      <th>label</th>\n",
       "      <th>AarsVaerk_1</th>\n",
       "      <th>AarsVaerk_2</th>\n",
       "      <th>AarsVaerk_3</th>\n",
       "    </tr>\n",
       "  </thead>\n",
       "  <tbody>\n",
       "    <tr>\n",
       "      <th>0</th>\n",
       "      <td>10000122</td>\n",
       "      <td>org.apache.spark.sql.catalyst.expressions.Unsa...</td>\n",
       "      <td>APS</td>\n",
       "      <td>DIGITAL CENTER FYN</td>\n",
       "      <td>1.0</td>\n",
       "      <td>1.0</td>\n",
       "      <td>2.0</td>\n",
       "      <td>1.0</td>\n",
       "    </tr>\n",
       "    <tr>\n",
       "      <th>1</th>\n",
       "      <td>10000653</td>\n",
       "      <td>org.apache.spark.sql.catalyst.expressions.Unsa...</td>\n",
       "      <td>A/S</td>\n",
       "      <td>SCSK 3241</td>\n",
       "      <td>0.0</td>\n",
       "      <td>1.0</td>\n",
       "      <td>1.0</td>\n",
       "      <td>1.0</td>\n",
       "    </tr>\n",
       "    <tr>\n",
       "      <th>2</th>\n",
       "      <td>10000661</td>\n",
       "      <td>org.apache.spark.sql.catalyst.expressions.Unsa...</td>\n",
       "      <td>A/S</td>\n",
       "      <td>SCSK 3243</td>\n",
       "      <td>0.0</td>\n",
       "      <td>1.0</td>\n",
       "      <td>2.0</td>\n",
       "      <td>5.0</td>\n",
       "    </tr>\n",
       "    <tr>\n",
       "      <th>3</th>\n",
       "      <td>10000815</td>\n",
       "      <td>org.apache.spark.sql.catalyst.expressions.Unsa...</td>\n",
       "      <td>APS</td>\n",
       "      <td>E B J KOLDING</td>\n",
       "      <td>0.0</td>\n",
       "      <td>1.0</td>\n",
       "      <td>2.0</td>\n",
       "      <td>2.0</td>\n",
       "    </tr>\n",
       "    <tr>\n",
       "      <th>4</th>\n",
       "      <td>10002729</td>\n",
       "      <td>org.apache.spark.sql.catalyst.expressions.Unsa...</td>\n",
       "      <td>APS</td>\n",
       "      <td>DOD.COM</td>\n",
       "      <td>0.0</td>\n",
       "      <td>1.0</td>\n",
       "      <td>1.0</td>\n",
       "      <td>1.0</td>\n",
       "    </tr>\n",
       "  </tbody>\n",
       "</table>\n",
       "</div>"
      ],
      "text/plain": [
       "        cvr                                             status  \\\n",
       "0  10000122  org.apache.spark.sql.catalyst.expressions.Unsa...   \n",
       "1  10000653  org.apache.spark.sql.catalyst.expressions.Unsa...   \n",
       "2  10000661  org.apache.spark.sql.catalyst.expressions.Unsa...   \n",
       "3  10000815  org.apache.spark.sql.catalyst.expressions.Unsa...   \n",
       "4  10002729  org.apache.spark.sql.catalyst.expressions.Unsa...   \n",
       "\n",
       "  kortBeskrivelse                navn  label  AarsVaerk_1  AarsVaerk_2  \\\n",
       "0             APS  DIGITAL CENTER FYN    1.0          1.0          2.0   \n",
       "1             A/S           SCSK 3241    0.0          1.0          1.0   \n",
       "2             A/S           SCSK 3243    0.0          1.0          2.0   \n",
       "3             APS       E B J KOLDING    0.0          1.0          2.0   \n",
       "4             APS             DOD.COM    0.0          1.0          1.0   \n",
       "\n",
       "   AarsVaerk_3  \n",
       "0          1.0  \n",
       "1          1.0  \n",
       "2          5.0  \n",
       "3          2.0  \n",
       "4          1.0  "
      ]
     },
     "execution_count": 12,
     "metadata": {},
     "output_type": "execute_result"
    }
   ],
   "source": [
    "from pyspark.sql import functions as F\n",
    "\n",
    "train_df, test_df = (data_import\n",
    "                     .data_frame\n",
    "                     .filter(F.col('label') < 2.0)\n",
    "                     .randomSplit([0.66, 0.33])\n",
    "                    )\n",
    "\n",
    "#print(data_import.list_features)\n",
    "print('Number of training points are {}'.format(train_df.count()))\n",
    "print('Number of test points are {}'.format(test_df.count()))\n",
    "train_df.limit(5).toPandas()\n",
    "#train_df.printSchema()"
   ]
  },
  {
   "cell_type": "markdown",
   "metadata": {},
   "source": [
    "### Select an algorithm and its parameters"
   ]
  },
  {
   "cell_type": "code",
   "execution_count": 13,
   "metadata": {},
   "outputs": [
    {
     "data": {
      "application/vnd.jupyter.widget-view+json": {
       "model_id": "75e96b132d9f4be9985ecda680176f59"
      }
     },
     "metadata": {},
     "output_type": "display_data"
    }
   ],
   "source": [
    "selector = create_params.ParamsClassification()\n",
    "params = selector.select_parameters()\n",
    "display(params)"
   ]
  },
  {
   "cell_type": "markdown",
   "metadata": {},
   "source": [
    "__For verification:__"
   ]
  },
  {
   "cell_type": "code",
   "execution_count": 14,
   "metadata": {},
   "outputs": [
    {
     "data": {
      "text/plain": [
       "{'algorithm': 'LogisticRegression',\n",
       " 'elasticNetParam': (0.0, 0.5),\n",
       " 'fitIntercept': True,\n",
       " 'labelCol': 'label',\n",
       " 'maxIter': (100, 150),\n",
       " 'predictionCol': 'prediction',\n",
       " 'probabilityCol': 'probability',\n",
       " 'rawPredictionCol': 'rawPrediction',\n",
       " 'regParam': (0.0, 0.5),\n",
       " 'threshold': (0.0, 0.5),\n",
       " 'tol': (1e-06, 0.01)}"
      ]
     },
     "execution_count": 14,
     "metadata": {},
     "output_type": "execute_result"
    }
   ],
   "source": [
    "parameter_dict = selector.output_parameters(params)\n",
    "parameter_dict"
   ]
  },
  {
   "cell_type": "markdown",
   "metadata": {
    "collapsed": true
   },
   "source": [
    "### Initilize the workflow class\n",
    "We have all the ingredients needed to make the Pipeline"
   ]
  },
  {
   "cell_type": "code",
   "execution_count": 15,
   "metadata": {},
   "outputs": [],
   "source": [
    "model = ExecuteWorkflowClassification(\n",
    "    parameter_dict,\n",
    "    data_import.standardize,\n",
    "    data_import.list_features\n",
    ")"
   ]
  },
  {
   "cell_type": "markdown",
   "metadata": {
    "scrolled": false
   },
   "source": [
    "### Execute the pipeline in a K-fold cross-validation\n",
    "In this case, we execute the Pipeline both with and without the K-fold cross-validation, in order to examine the differences."
   ]
  },
  {
   "cell_type": "code",
   "execution_count": 16,
   "metadata": {
    "scrolled": false
   },
   "outputs": [],
   "source": [
    "from pyspark.ml.evaluation import BinaryClassificationEvaluator\n",
    "result_model = model.pipeline.fit(train_df)\n",
    "crossfitted_model = model.run_cross_val(\n",
    "    train_df,\n",
    "    BinaryClassificationEvaluator(),\n",
    "    3\n",
    ")\n",
    "#summary = fitted_data.bestModel.stages[-1].summary"
   ]
  },
  {
   "cell_type": "code",
   "execution_count": 17,
   "metadata": {},
   "outputs": [
    {
     "data": {
      "text/html": [
       "<div>\n",
       "<table border=\"1\" class=\"dataframe\">\n",
       "  <thead>\n",
       "    <tr style=\"text-align: right;\">\n",
       "      <th></th>\n",
       "      <th>label</th>\n",
       "      <th>prediction</th>\n",
       "      <th>count</th>\n",
       "    </tr>\n",
       "  </thead>\n",
       "  <tbody>\n",
       "    <tr>\n",
       "      <th>0</th>\n",
       "      <td>1.0</td>\n",
       "      <td>1.0</td>\n",
       "      <td>10</td>\n",
       "    </tr>\n",
       "    <tr>\n",
       "      <th>1</th>\n",
       "      <td>0.0</td>\n",
       "      <td>1.0</td>\n",
       "      <td>21</td>\n",
       "    </tr>\n",
       "    <tr>\n",
       "      <th>2</th>\n",
       "      <td>1.0</td>\n",
       "      <td>0.0</td>\n",
       "      <td>10240</td>\n",
       "    </tr>\n",
       "    <tr>\n",
       "      <th>3</th>\n",
       "      <td>0.0</td>\n",
       "      <td>0.0</td>\n",
       "      <td>43846</td>\n",
       "    </tr>\n",
       "  </tbody>\n",
       "</table>\n",
       "</div>"
      ],
      "text/plain": [
       "   label  prediction  count\n",
       "0    1.0         1.0     10\n",
       "1    0.0         1.0     21\n",
       "2    1.0         0.0  10240\n",
       "3    0.0         0.0  43846"
      ]
     },
     "execution_count": 17,
     "metadata": {},
     "output_type": "execute_result"
    }
   ],
   "source": [
    "df_no_cv_pipeline = (result_model.transform(test_df))\n",
    "l = model.pipeline.getStages()[-1].getLabelCol()\n",
    "p = model.pipeline.getStages()[-1].getPredictionCol()\n",
    "df_confusion = df_no_cv_pipeline.groupBy([l,p]).count()\n",
    "df_confusion.toPandas()"
   ]
  },
  {
   "cell_type": "markdown",
   "metadata": {},
   "source": [
    "### Lets look at the ROC-curve:"
   ]
  },
  {
   "cell_type": "code",
   "execution_count": 19,
   "metadata": {},
   "outputs": [
    {
     "name": "stdout",
     "output_type": "stream",
     "text": [
      "The area under the curve is 0.5812158275012296\n"
     ]
    },
    {
     "data": {
      "image/png": "[encoded data removed]",
      "text/plain": [
       "<matplotlib.figure.Figure at 0x7f50a5467438>"
      ]
     },
     "metadata": {},
     "output_type": "display_data"
    }
   ],
   "source": [
    "if crossfitted_model.bestModel.stages[-1].hasSummary:\n",
    "    fig, axes = plt.subplots(\n",
    "        nrows=2,\n",
    "        ncols=3,\n",
    "        figsize=(20, 14))\n",
    "    summary = crossfitted_model.bestModel.stages[-1].summary\n",
    "    \n",
    "    \n",
    "    print('The area under the curve is {}'.format(summary.areaUnderROC))\n",
    "    attributes = []\n",
    "    titles = ['F-measure by Threshold','Precision by Recall','Precision by Threshold', 'ROC', 'Recall by Threshold']\n",
    "    attributes.append(summary.fMeasureByThreshold.toPandas())\n",
    "    attributes.append(summary.pr.toPandas())\n",
    "    attributes.append(summary.precisionByThreshold.toPandas())\n",
    "    attributes.append(summary.roc.toPandas())\n",
    "    attributes.append(summary.recallByThreshold.toPandas())\n",
    "    #iterations = summary.totalIterations\n",
    "    \n",
    "    jdx = 0\n",
    "    for idx, data_frame in enumerate(attributes):\n",
    "        if idx % 3 == 0 and idx != 0:\n",
    "            jdx+=1\n",
    "        ax = axes[jdx,idx % 3]\n",
    "        ax.plot(data_frame.columns[0],\n",
    "                data_frame.columns[1],\n",
    "                data=data_frame,                \n",
    "               )\n",
    "        ax.legend()\n",
    "        ax.set_xlabel(data_frame.columns[0])\n",
    "        ax.set_ylabel(data_frame.columns[1])\n",
    "        ax.set_title(titles[idx])\n",
    "    plt.show()"
   ]
  },
  {
   "cell_type": "code",
   "execution_count": 25,
   "metadata": {},
   "outputs": [],
   "source": [
    "from classification import ShowClassification"
   ]
  },
  {
   "cell_type": "code",
   "execution_count": 24,
   "metadata": {},
   "outputs": [
    {
     "data": {
      "text/plain": [
       "LogisticRegression_48c3af93ae350da50350"
      ]
     },
     "execution_count": 24,
     "metadata": {},
     "output_type": "execute_result"
    }
   ],
   "source": [
    "show_classification_attributes(crossfitted_model)"
   ]
  },
  {
   "cell_type": "code",
   "execution_count": null,
   "metadata": {
    "collapsed": true
   },
   "outputs": [],
   "source": []
  }
 ],
 "metadata": {
  "kernelspec": {
   "display_name": "Python 3",
   "language": "python",
   "name": "python3"
  },
  "language_info": {
   "codemirror_mode": {
    "name": "ipython",
    "version": 3
   },
   "file_extension": ".py",
   "mimetype": "text/x-python",
   "name": "python",
   "nbconvert_exporter": "python",
   "pygments_lexer": "ipython3",
   "version": "3.5.2"
  }
 },
 "nbformat": 4,
 "nbformat_minor": 2
}
