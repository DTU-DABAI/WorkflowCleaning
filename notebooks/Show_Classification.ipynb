{
 "cells": [
  {
   "cell_type": "markdown",
   "metadata": {},
   "source": [
    "<img src=\"https://upload.wikimedia.org/wikipedia/en/a/a1/Visma_logo.jpg\"\n",
    "     align=\"right\"\n",
    "     width=\"30%\"\n",
    "     alt=\"Visma logo\">\n",
    "\n",
    "Classification Workflow \n",
    "=============\n",
    "\n",
    "<img src=\"http://www.rm.dk/siteassets/regional-udvikling/digitalisering/dabai/dabai-logo.png\"\n",
    "     align=\"right\"\n",
    "     width=\"20%\"\n",
    "     alt=\"DABAI logo\">\n",
    "     \n",
    "The following notebook shows how the workflow for classification should be executed."
   ]
  },
  {
   "cell_type": "code",
   "execution_count": 1,
   "metadata": {},
   "outputs": [
    {
     "name": "stdout",
     "output_type": "stream",
     "text": [
      "/home/svanhmic/workspace/DABAI/Workflows\n"
     ]
    }
   ],
   "source": [
    "import sys, getpass, os\n",
    "from IPython import display\n",
    "\n",
    "module_path = os.path.abspath(os.path.join('..'))\n",
    "if module_path not in sys.path:\n",
    "    sys.path.append(module_path)\n",
    "print(module_path)"
   ]
  },
  {
   "cell_type": "code",
   "execution_count": 2,
   "metadata": {
    "collapsed": true
   },
   "outputs": [],
   "source": [
    "user = getpass.getuser()\n",
    "if user == \"sidsel\":\n",
    "    parquet_path = \"/home/sidsel/workspace/sparkdata/parquet\"\n",
    "elif user == \"svanhmic\":\n",
    "    parquet_path = \"/home/svanhmic/workspace/data/DABAI/sparkdata/parquet\"\n",
    "    \n",
    "#csv_str = '/home/svanhmic/workspace/data/DABAI/test.csv'\n",
    "#file_str = '/home/svanhmic/workspace/data/DABAI/test.txt'\n",
    "#parquet_str = '/home/svanhmic/workspace/data/DABAI/sparkdata/parquet/alleregnskaber.parquet'\n",
    "#json_str = '/home/svanhmic/workspace/data/DABAI/sparkdata/json/cdata-permanent.json'\n"
   ]
  },
  {
   "cell_type": "code",
   "execution_count": 3,
   "metadata": {
    "collapsed": true
   },
   "outputs": [],
   "source": [
    "from classification.ExecuteClassificationWorkflow import ExecuteWorkflowClassification\n",
    "import classification.CreateParametersClasification as create_params\n",
    "\n",
    "from shared import GeneralDataImport"
   ]
  },
  {
   "cell_type": "code",
   "execution_count": 4,
   "metadata": {},
   "outputs": [
    {
     "data": {
      "application/vnd.jupyter.widget-view+json": {
       "model_id": "f3ee6e1731ed4819b76ddca963a057dd"
      }
     },
     "metadata": {},
     "output_type": "display_data"
    }
   ],
   "source": [
    "selector = create_params.ParamsClassification()\n",
    "params = selector.select_parameters()\n",
    "display.display(params)"
   ]
  },
  {
   "cell_type": "code",
   "execution_count": 5,
   "metadata": {},
   "outputs": [
    {
     "data": {
      "text/plain": [
       "{'algorithm': 'LogisticRegression',\n",
       " 'elasticNetParam': (0.0, 0.5),\n",
       " 'fitIntercept': True,\n",
       " 'labelCol': 'label',\n",
       " 'maxIter': (100, 150),\n",
       " 'predictionCol': 'prediction',\n",
       " 'probabilityCol': 'probability',\n",
       " 'rawPredictionCol': 'rawPrediction',\n",
       " 'regParam': (0.0, 0.5),\n",
       " 'threshold': (0.0, 0.5),\n",
       " 'tol': (1e-06, 0.01)}"
      ]
     },
     "execution_count": 5,
     "metadata": {},
     "output_type": "execute_result"
    }
   ],
   "source": [
    "parameter_dict = selector.output_parameters(params)\n",
    "parameter_dict"
   ]
  },
  {
   "cell_type": "code",
   "execution_count": 6,
   "metadata": {},
   "outputs": [
    {
     "data": {
      "application/vnd.jupyter.widget-view+json": {
       "model_id": "cd04ab184bf54c3a82f4d77b22694400"
      }
     },
     "metadata": {},
     "output_type": "display_data"
    }
   ],
   "source": [
    "data_import = GeneralDataImport.GeneralDataImport(parquet_path+'/normal_cluster_n_10000.parquet')"
   ]
  },
  {
   "cell_type": "code",
   "execution_count": 7,
   "metadata": {},
   "outputs": [
    {
     "data": {
      "application/vnd.jupyter.widget-view+json": {
       "model_id": "0064b979144d462188007b6a054a561a"
      }
     },
     "metadata": {},
     "output_type": "display_data"
    }
   ],
   "source": [
    "data_import.select_columns()"
   ]
  },
  {
   "cell_type": "code",
   "execution_count": 8,
   "metadata": {},
   "outputs": [
    {
     "name": "stdout",
     "output_type": "stream",
     "text": [
      "+---+---+---------+------------------+------------------+-----+\n",
      "| id|  k|dimension|                 a|                 b|label|\n",
      "+---+---+---------+------------------+------------------+-----+\n",
      "|  0|  4|        2|6.9872319773728275|1.2750762113727783|  0.0|\n",
      "|  0|  5|        2|  -2.8433028165902|-6.868296778115026|  0.0|\n",
      "|  0|  6|        2| 4.441651704259621|-3.472884978939291|  1.0|\n",
      "+---+---+---------+------------------+------------------+-----+\n",
      "only showing top 3 rows\n",
      "\n",
      "[StructField(a,DoubleType,true), StructField(b,DoubleType,true)]\n",
      "7507\n"
     ]
    }
   ],
   "source": [
    "from pyspark.sql import functions as F\n",
    "\n",
    "train_df, test_df = (data_import.data_frame.withColumn('label', F.when(F.randn()>=0.5,1.0).otherwise(0)).randomSplit([3.0,1.0]))\n",
    "            \n",
    "train_df.show(3)\n",
    "\n",
    "print(data_import.list_features)\n",
    "print(train_df.count())"
   ]
  },
  {
   "cell_type": "code",
   "execution_count": null,
   "metadata": {
    "collapsed": true
   },
   "outputs": [],
   "source": []
  },
  {
   "cell_type": "code",
   "execution_count": 12,
   "metadata": {
    "collapsed": true
   },
   "outputs": [],
   "source": [
    "model = ExecuteWorkflowClassification(\n",
    "    parameter_dict,\n",
    "    data_import.standardize,\n",
    "    data_import.list_features\n",
    ")"
   ]
  },
  {
   "cell_type": "code",
   "execution_count": 13,
   "metadata": {
    "scrolled": false
   },
   "outputs": [
    {
     "data": {
      "text/plain": [
       "243"
      ]
     },
     "execution_count": 13,
     "metadata": {},
     "output_type": "execute_result"
    }
   ],
   "source": [
    "len(model.parameter_grid)"
   ]
  },
  {
   "cell_type": "code",
   "execution_count": 14,
   "metadata": {
    "collapsed": true,
    "scrolled": false
   },
   "outputs": [],
   "source": [
    "from pyspark.ml.evaluation import BinaryClassificationEvaluator\n",
    "result_model = model.pipeline.fit(train_df)\n",
    "crossfitted_model = model.run_cross_val(train_df,BinaryClassificationEvaluator(),10)\n",
    "#summary = fitted_data.bestModel.stages[-1].summary"
   ]
  },
  {
   "cell_type": "code",
   "execution_count": 15,
   "metadata": {
    "scrolled": true
   },
   "outputs": [
    {
     "data": {
      "text/html": [
       "<div>\n",
       "<table border=\"1\" class=\"dataframe\">\n",
       "  <thead>\n",
       "    <tr style=\"text-align: right;\">\n",
       "      <th></th>\n",
       "      <th>id</th>\n",
       "      <th>k</th>\n",
       "      <th>dimension</th>\n",
       "      <th>a</th>\n",
       "      <th>b</th>\n",
       "      <th>label</th>\n",
       "      <th>vectorized_features</th>\n",
       "      <th>scaled</th>\n",
       "      <th>rawPrediction</th>\n",
       "      <th>probability</th>\n",
       "      <th>prediction</th>\n",
       "    </tr>\n",
       "  </thead>\n",
       "  <tbody>\n",
       "    <tr>\n",
       "      <th>0</th>\n",
       "      <td>0</td>\n",
       "      <td>7</td>\n",
       "      <td>2</td>\n",
       "      <td>-4.273084</td>\n",
       "      <td>-1.654403</td>\n",
       "      <td>0.0</td>\n",
       "      <td>[-4.273083948, -1.65440270399]</td>\n",
       "      <td>[-4.273083948, -1.65440270399]</td>\n",
       "      <td>[0.955771889063, -0.955771889063]</td>\n",
       "      <td>[0.722274468773, 0.277725531227]</td>\n",
       "      <td>0.0</td>\n",
       "    </tr>\n",
       "    <tr>\n",
       "      <th>1</th>\n",
       "      <td>1</td>\n",
       "      <td>4</td>\n",
       "      <td>2</td>\n",
       "      <td>7.455648</td>\n",
       "      <td>-1.079207</td>\n",
       "      <td>0.0</td>\n",
       "      <td>[7.4556484386, -1.07920738165]</td>\n",
       "      <td>[7.4556484386, -1.07920738165]</td>\n",
       "      <td>[0.741554763447, -0.741554763447]</td>\n",
       "      <td>[0.677335746595, 0.322664253405]</td>\n",
       "      <td>0.0</td>\n",
       "    </tr>\n",
       "    <tr>\n",
       "      <th>2</th>\n",
       "      <td>10</td>\n",
       "      <td>7</td>\n",
       "      <td>2</td>\n",
       "      <td>-3.238991</td>\n",
       "      <td>0.957753</td>\n",
       "      <td>0.0</td>\n",
       "      <td>[-3.23899134917, 0.957753445337]</td>\n",
       "      <td>[-3.23899134917, 0.957753445337]</td>\n",
       "      <td>[0.922873460057, -0.922873460057]</td>\n",
       "      <td>[0.715627231033, 0.284372768967]</td>\n",
       "      <td>0.0</td>\n",
       "    </tr>\n",
       "    <tr>\n",
       "      <th>3</th>\n",
       "      <td>100</td>\n",
       "      <td>6</td>\n",
       "      <td>2</td>\n",
       "      <td>6.917132</td>\n",
       "      <td>0.368509</td>\n",
       "      <td>1.0</td>\n",
       "      <td>[6.91713204966, 0.368508966777]</td>\n",
       "      <td>[6.91713204966, 0.368508966777]</td>\n",
       "      <td>[0.743326715301, -0.743326715301]</td>\n",
       "      <td>[0.677722888522, 0.322277111478]</td>\n",
       "      <td>0.0</td>\n",
       "    </tr>\n",
       "    <tr>\n",
       "      <th>4</th>\n",
       "      <td>100</td>\n",
       "      <td>7</td>\n",
       "      <td>2</td>\n",
       "      <td>-2.119901</td>\n",
       "      <td>0.036986</td>\n",
       "      <td>0.0</td>\n",
       "      <td>[-2.11990143841, 0.0369863616085]</td>\n",
       "      <td>[-2.11990143841, 0.0369863616085]</td>\n",
       "      <td>[0.907770998477, -0.907770998477]</td>\n",
       "      <td>[0.712543823626, 0.287456176374]</td>\n",
       "      <td>0.0</td>\n",
       "    </tr>\n",
       "  </tbody>\n",
       "</table>\n",
       "</div>"
      ],
      "text/plain": [
       "    id  k dimension         a         b  label  \\\n",
       "0    0  7         2 -4.273084 -1.654403    0.0   \n",
       "1    1  4         2  7.455648 -1.079207    0.0   \n",
       "2   10  7         2 -3.238991  0.957753    0.0   \n",
       "3  100  6         2  6.917132  0.368509    1.0   \n",
       "4  100  7         2 -2.119901  0.036986    0.0   \n",
       "\n",
       "                 vectorized_features                             scaled  \\\n",
       "0     [-4.273083948, -1.65440270399]     [-4.273083948, -1.65440270399]   \n",
       "1     [7.4556484386, -1.07920738165]     [7.4556484386, -1.07920738165]   \n",
       "2   [-3.23899134917, 0.957753445337]   [-3.23899134917, 0.957753445337]   \n",
       "3    [6.91713204966, 0.368508966777]    [6.91713204966, 0.368508966777]   \n",
       "4  [-2.11990143841, 0.0369863616085]  [-2.11990143841, 0.0369863616085]   \n",
       "\n",
       "                       rawPrediction                       probability  \\\n",
       "0  [0.955771889063, -0.955771889063]  [0.722274468773, 0.277725531227]   \n",
       "1  [0.741554763447, -0.741554763447]  [0.677335746595, 0.322664253405]   \n",
       "2  [0.922873460057, -0.922873460057]  [0.715627231033, 0.284372768967]   \n",
       "3  [0.743326715301, -0.743326715301]  [0.677722888522, 0.322277111478]   \n",
       "4  [0.907770998477, -0.907770998477]  [0.712543823626, 0.287456176374]   \n",
       "\n",
       "   prediction  \n",
       "0         0.0  \n",
       "1         0.0  \n",
       "2         0.0  \n",
       "3         0.0  \n",
       "4         0.0  "
      ]
     },
     "execution_count": 15,
     "metadata": {},
     "output_type": "execute_result"
    }
   ],
   "source": [
    "result_df = result_model.transform(test_df)\n",
    "result_df.limit(5).toPandas()"
   ]
  },
  {
   "cell_type": "code",
   "execution_count": 16,
   "metadata": {},
   "outputs": [
    {
     "data": {
      "text/html": [
       "<div>\n",
       "<table border=\"1\" class=\"dataframe\">\n",
       "  <thead>\n",
       "    <tr style=\"text-align: right;\">\n",
       "      <th></th>\n",
       "      <th>id</th>\n",
       "      <th>k</th>\n",
       "      <th>dimension</th>\n",
       "      <th>a</th>\n",
       "      <th>b</th>\n",
       "      <th>label</th>\n",
       "      <th>rawPrediction</th>\n",
       "      <th>probability</th>\n",
       "      <th>prediction</th>\n",
       "    </tr>\n",
       "  </thead>\n",
       "  <tbody>\n",
       "    <tr>\n",
       "      <th>0</th>\n",
       "      <td>0</td>\n",
       "      <td>7</td>\n",
       "      <td>2</td>\n",
       "      <td>-4.273084</td>\n",
       "      <td>-1.654403</td>\n",
       "      <td>0.0</td>\n",
       "      <td>[0.941898605943, -0.941898605943]</td>\n",
       "      <td>[0.719483007387, 0.280516992613]</td>\n",
       "      <td>1.0</td>\n",
       "    </tr>\n",
       "    <tr>\n",
       "      <th>1</th>\n",
       "      <td>1</td>\n",
       "      <td>4</td>\n",
       "      <td>2</td>\n",
       "      <td>7.455648</td>\n",
       "      <td>-1.079207</td>\n",
       "      <td>0.0</td>\n",
       "      <td>[0.743097423244, -0.743097423244]</td>\n",
       "      <td>[0.677672805754, 0.322327194246]</td>\n",
       "      <td>1.0</td>\n",
       "    </tr>\n",
       "    <tr>\n",
       "      <th>2</th>\n",
       "      <td>10</td>\n",
       "      <td>7</td>\n",
       "      <td>2</td>\n",
       "      <td>-3.238991</td>\n",
       "      <td>0.957753</td>\n",
       "      <td>0.0</td>\n",
       "      <td>[0.903862467932, -0.903862467932]</td>\n",
       "      <td>[0.711742593787, 0.288257406213]</td>\n",
       "      <td>1.0</td>\n",
       "    </tr>\n",
       "    <tr>\n",
       "      <th>3</th>\n",
       "      <td>100</td>\n",
       "      <td>6</td>\n",
       "      <td>2</td>\n",
       "      <td>6.917132</td>\n",
       "      <td>0.368509</td>\n",
       "      <td>1.0</td>\n",
       "      <td>[0.740422560731, -0.740422560731]</td>\n",
       "      <td>[0.677088251724, 0.322911748276]</td>\n",
       "      <td>1.0</td>\n",
       "    </tr>\n",
       "    <tr>\n",
       "      <th>4</th>\n",
       "      <td>100</td>\n",
       "      <td>7</td>\n",
       "      <td>2</td>\n",
       "      <td>-2.119901</td>\n",
       "      <td>0.036986</td>\n",
       "      <td>0.0</td>\n",
       "      <td>[0.892705564583, -0.892705564583]</td>\n",
       "      <td>[0.709448190406, 0.290551809594]</td>\n",
       "      <td>1.0</td>\n",
       "    </tr>\n",
       "    <tr>\n",
       "      <th>5</th>\n",
       "      <td>1000</td>\n",
       "      <td>6</td>\n",
       "      <td>2</td>\n",
       "      <td>5.347565</td>\n",
       "      <td>-2.849655</td>\n",
       "      <td>0.0</td>\n",
       "      <td>[0.792176725465, -0.792176725465]</td>\n",
       "      <td>[0.688298524549, 0.311701475451]</td>\n",
       "      <td>1.0</td>\n",
       "    </tr>\n",
       "    <tr>\n",
       "      <th>6</th>\n",
       "      <td>1001</td>\n",
       "      <td>5</td>\n",
       "      <td>2</td>\n",
       "      <td>-4.822004</td>\n",
       "      <td>-8.002406</td>\n",
       "      <td>0.0</td>\n",
       "      <td>[1.00181289112, -1.00181289112]</td>\n",
       "      <td>[0.731414865317, 0.268585134683]</td>\n",
       "      <td>1.0</td>\n",
       "    </tr>\n",
       "    <tr>\n",
       "      <th>7</th>\n",
       "      <td>1002</td>\n",
       "      <td>6</td>\n",
       "      <td>2</td>\n",
       "      <td>7.571864</td>\n",
       "      <td>-2.121754</td>\n",
       "      <td>0.0</td>\n",
       "      <td>[0.74952041605, -0.74952041605]</td>\n",
       "      <td>[0.679074191255, 0.320925808745]</td>\n",
       "      <td>1.0</td>\n",
       "    </tr>\n",
       "    <tr>\n",
       "      <th>8</th>\n",
       "      <td>1005</td>\n",
       "      <td>5</td>\n",
       "      <td>2</td>\n",
       "      <td>-3.233244</td>\n",
       "      <td>-6.387497</td>\n",
       "      <td>0.0</td>\n",
       "      <td>[0.962577494981, -0.962577494981]</td>\n",
       "      <td>[0.723637565664, 0.276362434336]</td>\n",
       "      <td>1.0</td>\n",
       "    </tr>\n",
       "    <tr>\n",
       "      <th>9</th>\n",
       "      <td>1006</td>\n",
       "      <td>5</td>\n",
       "      <td>2</td>\n",
       "      <td>-3.563202</td>\n",
       "      <td>-7.498639</td>\n",
       "      <td>0.0</td>\n",
       "      <td>[0.976937127226, -0.976937127226]</td>\n",
       "      <td>[0.726500052869, 0.273499947131]</td>\n",
       "      <td>1.0</td>\n",
       "    </tr>\n",
       "    <tr>\n",
       "      <th>10</th>\n",
       "      <td>1009</td>\n",
       "      <td>5</td>\n",
       "      <td>2</td>\n",
       "      <td>-4.161101</td>\n",
       "      <td>-6.524195</td>\n",
       "      <td>0.0</td>\n",
       "      <td>[0.979034755433, -0.979034755433]</td>\n",
       "      <td>[0.726916648741, 0.273083351259]</td>\n",
       "      <td>1.0</td>\n",
       "    </tr>\n",
       "    <tr>\n",
       "      <th>11</th>\n",
       "      <td>1009</td>\n",
       "      <td>6</td>\n",
       "      <td>2</td>\n",
       "      <td>4.743292</td>\n",
       "      <td>-4.046543</td>\n",
       "      <td>0.0</td>\n",
       "      <td>[0.811764805261, -0.811764805261]</td>\n",
       "      <td>[0.69248544605, 0.30751455395]</td>\n",
       "      <td>1.0</td>\n",
       "    </tr>\n",
       "    <tr>\n",
       "      <th>12</th>\n",
       "      <td>1011</td>\n",
       "      <td>5</td>\n",
       "      <td>2</td>\n",
       "      <td>-2.843303</td>\n",
       "      <td>-6.868297</td>\n",
       "      <td>0.0</td>\n",
       "      <td>[0.959970677429, -0.959970677429]</td>\n",
       "      <td>[0.723115934219, 0.276884065781]</td>\n",
       "      <td>1.0</td>\n",
       "    </tr>\n",
       "    <tr>\n",
       "      <th>13</th>\n",
       "      <td>1011</td>\n",
       "      <td>6</td>\n",
       "      <td>2</td>\n",
       "      <td>7.049883</td>\n",
       "      <td>-3.196681</td>\n",
       "      <td>0.0</td>\n",
       "      <td>[0.766769462487, -0.766769462487]</td>\n",
       "      <td>[0.682821649644, 0.317178350356]</td>\n",
       "      <td>1.0</td>\n",
       "    </tr>\n",
       "    <tr>\n",
       "      <th>14</th>\n",
       "      <td>1013</td>\n",
       "      <td>5</td>\n",
       "      <td>2</td>\n",
       "      <td>-2.877312</td>\n",
       "      <td>-6.849891</td>\n",
       "      <td>0.0</td>\n",
       "      <td>[0.960386413627, -0.960386413627]</td>\n",
       "      <td>[0.7231991649, 0.2768008351]</td>\n",
       "      <td>1.0</td>\n",
       "    </tr>\n",
       "    <tr>\n",
       "      <th>15</th>\n",
       "      <td>1014</td>\n",
       "      <td>6</td>\n",
       "      <td>2</td>\n",
       "      <td>4.902802</td>\n",
       "      <td>-2.133654</td>\n",
       "      <td>1.0</td>\n",
       "      <td>[0.79380809021, -0.79380809021]</td>\n",
       "      <td>[0.688648415963, 0.311351584037]</td>\n",
       "      <td>1.0</td>\n",
       "    </tr>\n",
       "    <tr>\n",
       "      <th>16</th>\n",
       "      <td>1019</td>\n",
       "      <td>5</td>\n",
       "      <td>2</td>\n",
       "      <td>-4.959874</td>\n",
       "      <td>-7.965490</td>\n",
       "      <td>0.0</td>\n",
       "      <td>[1.00380006843, -1.00380006843]</td>\n",
       "      <td>[0.731805061091, 0.268194938909]</td>\n",
       "      <td>1.0</td>\n",
       "    </tr>\n",
       "    <tr>\n",
       "      <th>17</th>\n",
       "      <td>102</td>\n",
       "      <td>5</td>\n",
       "      <td>2</td>\n",
       "      <td>-1.201961</td>\n",
       "      <td>-7.923131</td>\n",
       "      <td>1.0</td>\n",
       "      <td>[0.941240124932, -0.941240124932]</td>\n",
       "      <td>[0.719350088797, 0.280649911203]</td>\n",
       "      <td>1.0</td>\n",
       "    </tr>\n",
       "    <tr>\n",
       "      <th>18</th>\n",
       "      <td>1020</td>\n",
       "      <td>6</td>\n",
       "      <td>2</td>\n",
       "      <td>4.999673</td>\n",
       "      <td>-2.367893</td>\n",
       "      <td>0.0</td>\n",
       "      <td>[0.794079622362, -0.794079622362]</td>\n",
       "      <td>[0.688706632672, 0.311293367328]</td>\n",
       "      <td>1.0</td>\n",
       "    </tr>\n",
       "    <tr>\n",
       "      <th>19</th>\n",
       "      <td>1022</td>\n",
       "      <td>6</td>\n",
       "      <td>2</td>\n",
       "      <td>4.230347</td>\n",
       "      <td>-2.950999</td>\n",
       "      <td>0.0</td>\n",
       "      <td>[0.811486237671, -0.811486237671]</td>\n",
       "      <td>[0.692426122081, 0.307573877919]</td>\n",
       "      <td>1.0</td>\n",
       "    </tr>\n",
       "  </tbody>\n",
       "</table>\n",
       "</div>"
      ],
      "text/plain": [
       "      id  k dimension         a         b  label  \\\n",
       "0      0  7         2 -4.273084 -1.654403    0.0   \n",
       "1      1  4         2  7.455648 -1.079207    0.0   \n",
       "2     10  7         2 -3.238991  0.957753    0.0   \n",
       "3    100  6         2  6.917132  0.368509    1.0   \n",
       "4    100  7         2 -2.119901  0.036986    0.0   \n",
       "5   1000  6         2  5.347565 -2.849655    0.0   \n",
       "6   1001  5         2 -4.822004 -8.002406    0.0   \n",
       "7   1002  6         2  7.571864 -2.121754    0.0   \n",
       "8   1005  5         2 -3.233244 -6.387497    0.0   \n",
       "9   1006  5         2 -3.563202 -7.498639    0.0   \n",
       "10  1009  5         2 -4.161101 -6.524195    0.0   \n",
       "11  1009  6         2  4.743292 -4.046543    0.0   \n",
       "12  1011  5         2 -2.843303 -6.868297    0.0   \n",
       "13  1011  6         2  7.049883 -3.196681    0.0   \n",
       "14  1013  5         2 -2.877312 -6.849891    0.0   \n",
       "15  1014  6         2  4.902802 -2.133654    1.0   \n",
       "16  1019  5         2 -4.959874 -7.965490    0.0   \n",
       "17   102  5         2 -1.201961 -7.923131    1.0   \n",
       "18  1020  6         2  4.999673 -2.367893    0.0   \n",
       "19  1022  6         2  4.230347 -2.950999    0.0   \n",
       "\n",
       "                        rawPrediction                       probability  \\\n",
       "0   [0.941898605943, -0.941898605943]  [0.719483007387, 0.280516992613]   \n",
       "1   [0.743097423244, -0.743097423244]  [0.677672805754, 0.322327194246]   \n",
       "2   [0.903862467932, -0.903862467932]  [0.711742593787, 0.288257406213]   \n",
       "3   [0.740422560731, -0.740422560731]  [0.677088251724, 0.322911748276]   \n",
       "4   [0.892705564583, -0.892705564583]  [0.709448190406, 0.290551809594]   \n",
       "5   [0.792176725465, -0.792176725465]  [0.688298524549, 0.311701475451]   \n",
       "6     [1.00181289112, -1.00181289112]  [0.731414865317, 0.268585134683]   \n",
       "7     [0.74952041605, -0.74952041605]  [0.679074191255, 0.320925808745]   \n",
       "8   [0.962577494981, -0.962577494981]  [0.723637565664, 0.276362434336]   \n",
       "9   [0.976937127226, -0.976937127226]  [0.726500052869, 0.273499947131]   \n",
       "10  [0.979034755433, -0.979034755433]  [0.726916648741, 0.273083351259]   \n",
       "11  [0.811764805261, -0.811764805261]    [0.69248544605, 0.30751455395]   \n",
       "12  [0.959970677429, -0.959970677429]  [0.723115934219, 0.276884065781]   \n",
       "13  [0.766769462487, -0.766769462487]  [0.682821649644, 0.317178350356]   \n",
       "14  [0.960386413627, -0.960386413627]      [0.7231991649, 0.2768008351]   \n",
       "15    [0.79380809021, -0.79380809021]  [0.688648415963, 0.311351584037]   \n",
       "16    [1.00380006843, -1.00380006843]  [0.731805061091, 0.268194938909]   \n",
       "17  [0.941240124932, -0.941240124932]  [0.719350088797, 0.280649911203]   \n",
       "18  [0.794079622362, -0.794079622362]  [0.688706632672, 0.311293367328]   \n",
       "19  [0.811486237671, -0.811486237671]  [0.692426122081, 0.307573877919]   \n",
       "\n",
       "    prediction  \n",
       "0          1.0  \n",
       "1          1.0  \n",
       "2          1.0  \n",
       "3          1.0  \n",
       "4          1.0  \n",
       "5          1.0  \n",
       "6          1.0  \n",
       "7          1.0  \n",
       "8          1.0  \n",
       "9          1.0  \n",
       "10         1.0  \n",
       "11         1.0  \n",
       "12         1.0  \n",
       "13         1.0  \n",
       "14         1.0  \n",
       "15         1.0  \n",
       "16         1.0  \n",
       "17         1.0  \n",
       "18         1.0  \n",
       "19         1.0  "
      ]
     },
     "execution_count": 16,
     "metadata": {},
     "output_type": "execute_result"
    }
   ],
   "source": [
    "(crossfitted_model\n",
    " .transform(test_df)\n",
    " .drop('vectorized_features')\n",
    " .drop('scaled')\n",
    " .limit(20)\n",
    " .toPandas())"
   ]
  },
  {
   "cell_type": "code",
   "execution_count": 17,
   "metadata": {
    "scrolled": false
   },
   "outputs": [
    {
     "data": {
      "image/png": "[encoded data removed]",
      "text/plain": [
       "<matplotlib.figure.Figure at 0x7f69744c5668>"
      ]
     },
     "metadata": {},
     "output_type": "display_data"
    }
   ],
   "source": [
    "#crossfitted_model.avgMetrics\n",
    "import seaborn as sb\n",
    "import matplotlib.pyplot as plt\n",
    "import pandas as pd\n",
    "import numpy as np\n",
    "\n",
    "\n",
    "best_lr = crossfitted_model.bestModel.stages[-1]\n",
    "best_pdf = best_lr.summary.roc.toPandas()\n",
    "sb.set_style(\"darkgrid\")\n",
    "plt.plot(best_pdf['FPR'],best_pdf['TPR'])\n",
    "plt.show()\n"
   ]
  },
  {
   "cell_type": "code",
   "execution_count": null,
   "metadata": {
    "collapsed": true
   },
   "outputs": [],
   "source": []
  }
 ],
 "metadata": {
  "kernelspec": {
   "display_name": "Python 3",
   "language": "python",
   "name": "python3"
  },
  "language_info": {
   "codemirror_mode": {
    "name": "ipython",
    "version": 3
   },
   "file_extension": ".py",
   "mimetype": "text/x-python",
   "name": "python",
   "nbconvert_exporter": "python",
   "pygments_lexer": "ipython3",
   "version": "3.5.2"
  }
 },
 "nbformat": 4,
 "nbformat_minor": 2
}
