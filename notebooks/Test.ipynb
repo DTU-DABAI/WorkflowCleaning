{
 "cells": [
  {
   "cell_type": "code",
   "execution_count": 1,
   "metadata": {},
   "outputs": [
    {
     "name": "stdout",
     "output_type": "stream",
     "text": [
      "/home/svanhmic/workspace/DABAI/WorkflowCleaning\n"
     ]
    }
   ],
   "source": [
    "import sys, os, getpass\n",
    "module_path = os.path.abspath(os.path.join('..'))\n",
    "if module_path not in sys.path:\n",
    "    sys.path.append(module_path)\n",
    "print(module_path)\n",
    "\n",
    "user = getpass.getuser()\n",
    "\n",
    "if user == \"sidsel\":\n",
    "    parquet_path = \"/home/sidsel/workspace/sparkdata/parquet\"\n",
    "elif user == \"svanhmic\":\n",
    "    parquet_path = \"/home/svanhmic/workspace/data/DABAI/sparkdata/parquet\""
   ]
  },
  {
   "cell_type": "code",
   "execution_count": 81,
   "metadata": {
    "collapsed": true
   },
   "outputs": [],
   "source": [
    "from shared.create_dummy_data  import DummyData\n",
    "from pyspark.ml.feature import VectorAssembler\n",
    "from pyspark.sql import functions as F\n",
    "from pyspark.ml.linalg import Vectors, VectorUDT\n",
    "from pyspark.sql import types as TY\n",
    "import pandas as pd\n",
    "import seaborn as sb\n",
    "import numpy as np\n",
    "import matplotlib.pyplot as plt "
   ]
  },
  {
   "cell_type": "code",
   "execution_count": 26,
   "metadata": {
    "collapsed": true
   },
   "outputs": [],
   "source": [
    "dd = DummyData()"
   ]
  },
  {
   "cell_type": "code",
   "execution_count": 40,
   "metadata": {},
   "outputs": [
    {
     "name": "stdout",
     "output_type": "stream",
     "text": [
      "+-----+------------------+-------------------+------------------+\n",
      "|label|                 x|                  y|                 z|\n",
      "+-----+------------------+-------------------+------------------+\n",
      "|    3|0.6027417789147873| 0.9407332838094374|0.4616960715027788|\n",
      "|    3|0.5942069363193099| 0.5960731145407019|0.6997337186312668|\n",
      "|    2|0.8004073184693896| 0.4239620162209272|0.9230465495573605|\n",
      "|    1|0.8323607541013331| 0.7989445855076183|0.8230200089426482|\n",
      "|    5|0.7444021960050392|0.32301607763693574|0.4982675080349952|\n",
      "+-----+------------------+-------------------+------------------+\n",
      "only showing top 5 rows\n",
      "\n",
      "+-----+------------------+\n",
      "|label|                 x|\n",
      "+-----+------------------+\n",
      "|    3|0.6027417789147873|\n",
      "|    3|0.5942069363193099|\n",
      "|    3|0.0879677805000082|\n",
      "|    2|0.8004073184693896|\n",
      "|    0|0.4012197999191627|\n",
      "+-----+------------------+\n",
      "only showing top 5 rows\n",
      "\n"
     ]
    }
   ],
   "source": [
    "#examples on splitting\n",
    "ddx = dd.df[dd.df[\"x\"] > 0.5]\n",
    "ddx.show(5)\n",
    "\n",
    "#slicing a data frame is as follows\n",
    "\n",
    "ddy = dd.df[\"label\",\"x\"]\n",
    "ddy.show(5)"
   ]
  },
  {
   "cell_type": "code",
   "execution_count": 83,
   "metadata": {
    "scrolled": true
   },
   "outputs": [
    {
     "name": "stdout",
     "output_type": "stream",
     "text": [
      "+-----+--------------------+--------------------+--------------------+\n",
      "|label|            features|       random_vector|          difference|\n",
      "+-----+--------------------+--------------------+--------------------+\n",
      "|    3|[0.60274177891478...|[0.80797476578955...|[-0.2052329868747...|\n",
      "|    3|[0.59420693631930...|[4.02902182374742...|[-3.4348148874281...|\n",
      "|    2|[0.80040731846938...|[0.83606093864884...|[-0.0356536201794...|\n",
      "|    1|[0.83236075410133...|[8.57348850685520...|[-7.7411277527538...|\n",
      "|    5|[0.74440219600503...|[6.43732713608765...|[-5.6929249400826...|\n",
      "|    3|[0.50142296061179...|[1.83787089989946...|[-1.3364479392876...|\n",
      "|    0|[0.72699383084082...|[1.77662838678695...|[-1.0496345559461...|\n",
      "|    5|[0.66823923873326...|[4.68209529741462...|[-4.0138560586813...|\n",
      "|    0|[0.72496898922961...|[0.83606093864884...|[-0.1110919494192...|\n",
      "|    2|[0.79649425675415...|[8.57348850685520...|[-7.7769942501010...|\n",
      "|    4|[0.89335848568893...|[6.43732713608765...|[-5.5439686503987...|\n",
      "|    4|[0.63616673042878...|[1.83787089989946...|[-1.2017041694706...|\n",
      "|    1|[0.50529492812927...|[1.77662838678695...|[-1.2713334586576...|\n",
      "|    5|[0.99099616306132...|[4.68209529741462...|[-3.6910991343532...|\n",
      "|    3|[0.99830527739589...|[4.30368869293336...|[-3.3053834155374...|\n",
      "|    3|[0.85260322635265...|[0.80825578097201...|[0.04434744538063...|\n",
      "|    0|[0.94863358036389...|[4.30368869293336...|[-3.3550551125694...|\n",
      "|    3|[0.69389999973972...|[0.80825578097201...|[-0.1143557812322...|\n",
      "|    1|[0.88452108425810...|[1.14174771043589...|[-0.2572266261777...|\n",
      "|    2|[0.53985373962839...|[0.88462235594111...|[-0.3447686163127...|\n",
      "+-----+--------------------+--------------------+--------------------+\n",
      "only showing top 20 rows\n",
      "\n"
     ]
    }
   ],
   "source": [
    "def subtract_vectors(vector_a: np.ndarray , vector_b):\n",
    "    return vector_a - vector_b\n",
    "\n",
    "#create a column with random variable.l\n",
    "udf_random_vector = F.udf(lambda: Vectors.dense(np.random.chisquare(3,3)),VectorUDT())\n",
    "udf_subtract_vector = F.udf(lambda vector_a,vector_b: Vectors.dense(subtract_vectors(vector_a,vector_b)),VectorUDT())\n",
    "\n",
    "vector_ass = VectorAssembler(inputCols=[i for i in ddx.columns if i != \"label\"],outputCol=\"features\")\n",
    "vectorized_ddx = vector_ass.transform(ddx)[\"label\",\"features\"]\n",
    "vectorized_ddx = vectorized_ddx.withColumn(\"random_vector\",udf_random_vector()).withColumn(\"difference\",udf_subtract_vector(\"features\",\"random_vector\"))\n",
    "vectorized_ddx.show()"
   ]
  },
  {
   "cell_type": "code",
   "execution_count": 76,
   "metadata": {},
   "outputs": [],
   "source": [
    "\n",
    "sb.distplot()\n",
    "plt.show()"
   ]
  },
  {
   "cell_type": "code",
   "execution_count": 6,
   "metadata": {
    "collapsed": true
   },
   "outputs": [],
   "source": [
    "import pandas as pd\n",
    "%matplotlib inline\n",
    "import random\n",
    "import matplotlib.pyplot as plt\n",
    "import seaborn as sns"
   ]
  },
  {
   "cell_type": "code",
   "execution_count": 7,
   "metadata": {},
   "outputs": [
    {
     "data": {
      "text/plain": [
       "<seaborn.axisgrid.FacetGrid at 0x7f4873c25588>"
      ]
     },
     "execution_count": 7,
     "metadata": {},
     "output_type": "execute_result"
    },
    {
     "data": {
      "image/png": "[encoded data removed]",
      "text/plain": [
       "<matplotlib.figure.Figure at 0x7f4873c2f240>"
      ]
     },
     "metadata": {},
     "output_type": "display_data"
    }
   ],
   "source": [
    "sns.set_context(\"notebook\", font_scale=1.1)\n",
    "sns.set_style(\"ticks\")\n",
    "\n",
    "\n",
    "sns.lmplot('x', 'y',\n",
    "           data=dd.df.toPandas(),\n",
    "           fit_reg=False,\n",
    "           hue=\"label\",  \n",
    "           scatter_kws={\"marker\": \"D\",\n",
    "                        \"s\": 100})"
   ]
  },
  {
   "cell_type": "code",
   "execution_count": null,
   "metadata": {
    "collapsed": true
   },
   "outputs": [],
   "source": []
  },
  {
   "cell_type": "code",
   "execution_count": null,
   "metadata": {
    "collapsed": true
   },
   "outputs": [],
   "source": []
  },
  {
   "cell_type": "code",
   "execution_count": null,
   "metadata": {
    "collapsed": true
   },
   "outputs": [],
   "source": []
  },
  {
   "cell_type": "code",
   "execution_count": null,
   "metadata": {
    "collapsed": true
   },
   "outputs": [],
   "source": []
  },
  {
   "cell_type": "code",
   "execution_count": null,
   "metadata": {
    "collapsed": true
   },
   "outputs": [],
   "source": []
  },
  {
   "cell_type": "code",
   "execution_count": null,
   "metadata": {
    "collapsed": true
   },
   "outputs": [],
   "source": []
  },
  {
   "cell_type": "code",
   "execution_count": null,
   "metadata": {
    "collapsed": true
   },
   "outputs": [],
   "source": []
  },
  {
   "cell_type": "code",
   "execution_count": null,
   "metadata": {
    "collapsed": true
   },
   "outputs": [],
   "source": []
  },
  {
   "cell_type": "code",
   "execution_count": null,
   "metadata": {
    "collapsed": true
   },
   "outputs": [],
   "source": []
  }
 ],
 "metadata": {
  "kernelspec": {
   "display_name": "Python 3",
   "language": "python",
   "name": "python3"
  },
  "language_info": {
   "codemirror_mode": {
    "name": "ipython",
    "version": 3
   },
   "file_extension": ".py",
   "mimetype": "text/x-python",
   "name": "python",
   "nbconvert_exporter": "python",
   "pygments_lexer": "ipython3",
   "version": "3.5.2"
  }
 },
 "nbformat": 4,
 "nbformat_minor": 2
}
